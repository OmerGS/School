{
 "cells": [
  {
   "cell_type": "markdown",
   "metadata": {},
   "source": [
    "\n",
    "***\n",
    "<center>\n",
    "\n",
    "# R2.09 Méthodes Numériques\n",
    "## TP1. A warren of rabbits\n",
    "    \n",
    "### T. Godin, T. Ferragut, L. Naert\n",
    "       \n",
    "</center>\n",
    "\n",
    "***\n",
    "***\n",
    "\n",
    "Le but principal de ce TP est de vous donner un aperçu de l'analyse quantitative et qualitative sur les suites ; et de s'approprier les outils que l'on utilisera tout au long du module."
   ]
  },
  {
   "cell_type": "code",
   "execution_count": null,
   "metadata": {},
   "outputs": [],
   "source": [
    "#import divers, ne pas prendre en compte\n",
    "import math\n",
    "import numpy as np\n",
    "import matplotlib.pyplot as plt\n",
    "%matplotlib inline\n",
    "#magic\n",
    "import warnings\n",
    "warnings.filterwarnings('ignore')\n",
    "\n",
    "import time\n",
    "import random\n",
    "\n",
    "from IPython.display import HTML      # For animation\n",
    "from matplotlib import animation      # For animation\n"
   ]
  },
  {
   "cell_type": "code",
   "execution_count": null,
   "metadata": {},
   "outputs": [],
   "source": [
    "plt.rcParams['figure.figsize'] = (10, 6)\n",
    "#see https://matplotlib.org/stable/tutorials/introductory/pyplot.html for a more complete introduction to mathplot"
   ]
  },
  {
   "cell_type": "markdown",
   "metadata": {},
   "source": [
    "# 1: 1 lapin, 2 lapins, 3 lapins ...\n",
    "\n",
    "Un mathématicien (très) naïf a entendu dire que les lapins se reproduisent. Il suppose donc que si on commence avec $a$ lapins, la population devrait augmenter.\n",
    "\n",
    "Ayant des connaissances (très) limitées en biologie, il propose de modéliser le nombre de lapins avec la suite la plus simple qu'il connaisse, la **suite arithmétique**.\n",
    "\n",
    "\n",
    "Voici une implémentation récursive de cette suite $u_0=a$ ; $u_{n+1}=u_n + r$."
   ]
  },
  {
   "cell_type": "code",
   "execution_count": null,
   "metadata": {},
   "outputs": [],
   "source": [
    "def arithmetic_rec(r,a,n):\n",
    "    '''\n",
    "    in: common adding r, initial term , number of iteration n\n",
    "    type: q float, r float, n int\n",
    "    return: n-th term of the arithmetic progression\n",
    "    rtype:float\n",
    "    '''\n",
    "    \n",
    "    if(n == 0):\n",
    "        return(a)\n",
    "    \n",
    "\n",
    "    un = arithmetic_rec(r,a,n-1) + r\n",
    "    return un\n",
    "    \n",
    "arithmetic_rec(2,11,5)\n",
    "\n",
    "\n"
   ]
  },
  {
   "cell_type": "markdown",
   "metadata": {},
   "source": [
    "\n",
    "**question 1:** \n",
    "écrire une fonction <tt> arithmetic </tt> qui calcule $u_n$ de manière impérative (c-à-d avec une boucle).\n",
    "\n",
    "Donner une formule explicite pour $u_n$\n"
   ]
  },
  {
   "cell_type": "code",
   "execution_count": null,
   "metadata": {},
   "outputs": [],
   "source": [
    "def arithmetic(r,a,n):\n",
    "    i = 0\n",
    "    while i != n:\n",
    "        a = a + r\n",
    "        i = i + 1\n",
    "\n",
    "    return n\n",
    "\n",
    "arithmetic(2,11,5)\n",
    "\n",
    "#un=a+r*n"
   ]
  },
  {
   "cell_type": "markdown",
   "metadata": {},
   "source": [
    "On peut maintenant tracer les $100$ premiers termes de la suite.\n",
    "\n",
    "\n",
    "\n",
    "\n"
   ]
  },
  {
   "cell_type": "code",
   "execution_count": null,
   "metadata": {},
   "outputs": [],
   "source": [
    "rg = range(1, 50)\n",
    "s1 = [arithmetic_rec(0,2,n) for n in rg]\n",
    "s2 = [arithmetic_rec(-1.5,2,n) for n in rg]\n",
    "s3 = [arithmetic_rec(1.5,-2,n) for n in rg]\n",
    "s4 = [arithmetic_rec(-1.5,-2,n) for n in rg]\n",
    "\n",
    "plt.title('arithmetic rabbits')\n",
    "plt.plot(rg, s1, 'ro', markersize=4)\n",
    "plt.plot(rg, s2, 'b+', markersize=4)\n",
    "plt.plot(rg, s3, 'gx', markersize=4)\n",
    "plt.plot(rg, s4, 'yo', markersize=4)\n",
    "\n",
    "plt.show()\n",
    "\n"
   ]
  },
  {
   "cell_type": "markdown",
   "metadata": {},
   "source": [
    "**question 2** Le tableau suivant donne le comportement de la suite en fonction de $a$ et $r$. Ce tableau est-il correct ? Quels choix sont pertinents ici en terme de modélisation ?\n",
    "\n"
   ]
  },
  {
   "cell_type": "markdown",
   "metadata": {},
   "source": [
    "| behaviour of $u_n$ | $r<0$ | $r=0$ | $r>0$ |\n",
    "| :- | -: | :-: |---|\n",
    "| $a<0$ | décroissante | constante| croissante\n",
    "| $a=0$ |décroissante  | constante| croissante\n",
    "| $a>0$ | décroissante | constante| croissante\n"
   ]
  },
  {
   "cell_type": "markdown",
   "metadata": {},
   "source": [
    "Pour la suite arithmétique ce tableau est correct. Pour la modélisation les choix pertinents devraient être :\n",
    "\n",
    "A et R tout les deux < 0\n",
    "A et R tout les deux > 0\n",
    "\n",
    "A > 0 et R < 0\n",
    "A < 0 et R > 0"
   ]
  },
  {
   "cell_type": "markdown",
   "metadata": {},
   "source": [
    "# 2: 1 couple of rabbits, 2 couples of rabbits, 4 couples of rabbits\n",
    "\n",
    "\n",
    "Une mathématicienne _bien mieux informée_ (mais qui n'a clairement pas souvent vu de vrais lapins) sait que les lapins ont des lapereaux qui peuvent eux-mêmes se reproduire. Elle propose donc une autre modélisation de la croissance de la population : la **suite géométrique** $u_0=a$ ; $u_{n+1}=qu_n$.\n",
    "\n",
    "_Cette modélisation simpliste est une théorie qui a réellement été proposée au XIXème siècle par Thomas R. Malthus, qui prédisait alors une  [explosion démographique](https://en.wikipedia.org/wiki/Malthusianism) et en tirait certaines conclusions très politiques_"
   ]
  },
  {
   "cell_type": "markdown",
   "metadata": {},
   "source": [
    "Voici une implémentation récursive de cette suite, $u_0=a$ ; $u_{n+1}=qu_n$."
   ]
  },
  {
   "cell_type": "code",
   "execution_count": null,
   "metadata": {},
   "outputs": [],
   "source": [
    "def geometric_rec(q,a,n):\n",
    "    '''\n",
    "    in: common ratio q, scale factor a, number of iteration n\n",
    "    type: q float, a float, n int\n",
    "    return: n-th term of the geometric progression\n",
    "    rtype:float\n",
    "    '''\n",
    "    if(n == 0):\n",
    "        return(a)\n",
    "\n",
    "    un = arithmetic_rec(q,a,n-1) * q\n",
    "    return un\n",
    "\n",
    "    \n",
    "geometric_rec(2,11,5)"
   ]
  },
  {
   "cell_type": "markdown",
   "metadata": {},
   "source": [
    "\n",
    "**question 1:** Écrire une fonction <tt>geometric</tt> qui calcule $u_n$ de manière impérative (c-à-d avec une boucle).\n",
    "\n",
    "Donner une formule explicite pour $u_n$"
   ]
  },
  {
   "cell_type": "code",
   "execution_count": null,
   "metadata": {},
   "outputs": [],
   "source": [
    "def geometric(q,a,n):\n",
    "    '''\n",
    "    in: common ratio q, scale factor a, number of iteration n\n",
    "    type: q float, a float, n int\n",
    "    return: n-th term of the geometric progression\n",
    "    rtype:float\n",
    "    '''\n",
    "    \n",
    "    i = 0\n",
    "    while i != n:\n",
    "        a = a * q\n",
    "        i = i + 1\n",
    "    return(n)\n",
    "\n",
    "    return -1\n",
    "\n",
    "\n",
    "#un=a*q^n\n"
   ]
  },
  {
   "cell_type": "markdown",
   "metadata": {},
   "source": [
    "On peut maintenant tracer les $100$ premiers termes de la suite.\n",
    "\n",
    "Dans ce genre de situation, comme $u_n$ augmente très rapidement, il peut-être intéressant de tracer $\\log u_n$. On parle _d'échelle logarithmique_.\n",
    "\n",
    "Quelles sont vos observations ?\n",
    "\n"
   ]
  },
  {
   "cell_type": "code",
   "execution_count": null,
   "metadata": {},
   "outputs": [],
   "source": [
    "rg = range(1, 20)\n",
    "s1 = [geometric_rec(2,1,n) for n in rg]\n",
    "plt.title('geometric rabbits usual')\n",
    "plt.plot(rg, s1, 'rx', markersize=4)\n",
    "plt.show()\n",
    "\n",
    "\n",
    "plt.title('geometric rabbits log')\n",
    "plt.yscale('log')\n",
    "plt.plot(rg, s1, 'b+', markersize=4)\n",
    "plt.show()\n"
   ]
  },
  {
   "cell_type": "markdown",
   "metadata": {},
   "source": [
    "**question 2**  Le tableau suivant donne le comportement de la suite en fonction de $a$ et $r$. Ce tableau est-il correct ? Quels choix sont pertinents ici en terme de modélisation ?. Quels choix sont pertinents ici en terme de modélisation ?\n"
   ]
  },
  {
   "cell_type": "markdown",
   "metadata": {},
   "source": [
    "| behaviour of $u_n$ | $q<0$ | $q=0$ | $0<q<1$ |$q=1$ |$1<q$ |\n",
    "| :- | -: | :-: |---| :-: |---|\n",
    "| $a<0$ | ni croissant, ni décroissant |constant |croissant |constant | décroissant\n",
    "| $a=0$ | constant |constant | constant|constant | constant\n",
    "| $a>0$ |ni croissant, ni décroissant  |constant  |décroissant |constant |croissant"
   ]
  },
  {
   "cell_type": "markdown",
   "metadata": {},
   "source": []
  },
  {
   "cell_type": "markdown",
   "metadata": {},
   "source": [
    "**question 3** Comparer les croissances des populations selon le choix de modélisation pour des choix raisonnables de paramètres (si le temps le permet, tracer par exemple le ratio)"
   ]
  },
  {
   "cell_type": "markdown",
   "metadata": {},
   "source": []
  },
  {
   "cell_type": "markdown",
   "metadata": {},
   "source": [
    "# 3: 1 couple of  rabbits, 1 couple of rabbits and 1 couples kittens, 2 couples of rabbits and 1 couple of kittens, 3 couples of rabbits and 2 couples of kittens ... the Fibonacci sequence"
   ]
  },
  {
   "cell_type": "markdown",
   "metadata": {},
   "source": [
    "[Leonardo Fibonacci](https://fr.wikipedia.org/wiki/Leonardo_Fibonacci), qui a probablement réellement vu des lapins<sup>[reference needed][]</sup> savait que les jeunes lapins ne peuvent pas se reproduire la première année, il suggéra donc que le nombre de lapins l'année  $n+1$ devrait être le nombre de lapins à l'année  $n$ plus le nombre de lapins adultes, c-à-d le nombre de lapins l'année $n-1$. \n",
    "\n",
    "[reference needed]: https://en.wikipedia.org/wiki/Wikipedia:Citation_needed\n",
    "\n"
   ]
  },
  {
   "cell_type": "markdown",
   "metadata": {},
   "source": [
    "On rappelle que la suite de Fibonacci est définie par $F_0=1 , =F_1=1$ et $F_{n+2} = F_{n+1} + F_n$\n",
    "\n",
    "\n",
    "\n",
    "## Comparaison d'algorithmes\n",
    "\n",
    "**Le but de cette partie va être de comparer l'efficacité en temps (c'est-à-dire la complexité algorithmique) de plusieurs implémentations de la suite de Fibonacci**\n",
    "\n",
    "**question 1** écrire une fonction (naïve) `Fibonacci` qui calcule $F_n$.\n",
    "Jusqu'où pouvez vous aller en moins de 30 secondes ?\n",
    "\n"
   ]
  },
  {
   "cell_type": "code",
   "execution_count": null,
   "metadata": {},
   "outputs": [],
   "source": [
    "def Fibonacci_naive(n):\n",
    "    if(n == 0):\n",
    "        return(n+1)\n",
    "    \n",
    "    if(n == 1):\n",
    "        return(n+2)\n",
    "    \n",
    "    return(Fibonacci_naive(n-1) + Fibonacci_naive(n-2))\n",
    "\n",
    "start = time.time()\n",
    "Fibonacci_naive(35)\n",
    "end = time.time()\n",
    "\n",
    "print(end - start)\n",
    "\n",
    "for i in range(10):\n",
    "    print(Fibonacci_naive(i))\n"
   ]
  },
  {
   "cell_type": "markdown",
   "metadata": {},
   "source": [
    "On se propose de tracer le temps nécessaire pour calculer $F_n$ comme fonction de $n$ pour  $n\\leq 35$\n"
   ]
  },
  {
   "cell_type": "code",
   "execution_count": null,
   "metadata": {},
   "outputs": [],
   "source": [
    "n=35\n",
    "rg = range(0, n)\n",
    "t=[0 for i in rg]\n",
    "for i in rg:\n",
    "    start = time.time()\n",
    "    Fibonacci_naive(i)\n",
    "    end = time.time()\n",
    "    t[i]=end-start\n",
    "\n",
    "\n",
    "plt.title('temps de calcul de la suite de Fibonacci, version naive')\n",
    "\n",
    "plt.plot(rg, t, 'ro', markersize=4)\n",
    "plt.grid()\n",
    "plt.show()"
   ]
  },
  {
   "cell_type": "code",
   "execution_count": null,
   "metadata": {},
   "outputs": [],
   "source": [
    "#échelle log\n",
    "\n",
    "\n",
    "\n",
    "plt.title('temps de calcul de la suite de Fibonacci (échelle logarithmique)')\n",
    "\n",
    "plt.plot(rg, np.log(t), 'ro', markersize=4)\n",
    "\n",
    "\n",
    "plt.grid()\n",
    "plt.show()"
   ]
  },
  {
   "cell_type": "markdown",
   "metadata": {},
   "source": []
  },
  {
   "cell_type": "markdown",
   "metadata": {},
   "source": [
    "La version naïve de calcul de Fibonacci s'appelle 2 fois recursivement à chaque passe. Le temps de calcul est donc exponentiel.\n",
    "\n",
    "On va chercher à optimiser cela.\n",
    "\n",
    "**question 2:** écrire une fonction _de complexité linéaire (une boucle ou un appel recursif par passe)_ <tt> fibonacci(n,a,b)</tt>  qui renvoie $[F_{n-1},F_{n}]$ pour l'appel `fibonacci(n,1,1)`\n",
    "\n",
    "\n",
    "Calculer $F_{500}$ et tracer le temps nécessaire pour calculer $F_n$ comme fonction de $n$ pour  $n\\leq 250$\n"
   ]
  },
  {
   "cell_type": "code",
   "execution_count": null,
   "metadata": {},
   "outputs": [],
   "source": [
    "def Fibonacci(n,a,b):\n",
    "   \n",
    "    return -1\n",
    "\n",
    "\n",
    "print(Fibonacci(1000,1,1)[1])   \n",
    "print(Fibonacci(1000,0,1)[1])   \n",
    "\n",
    "\n",
    "for i in range(5):\n",
    "    print(Fibonacci(i,1,1))\n",
    "n=250\n",
    "\n",
    "rg = range(0, n)\n",
    "t=[0 for i in rg]\n",
    "for i in rg:\n",
    "    start = time.time()\n",
    "    Fibonacci(i,0,1)\n",
    "    end = time.time()\n",
    "    t[i]=end-start\n",
    "\n",
    "    \n",
    "plt.title('temps de calcul de la suite de Fibonacci, version linéaire')\n",
    "\n",
    "plt.plot(rg, t, 'go', markersize=4)\n",
    "plt.grid()\n",
    "plt.show()"
   ]
  },
  {
   "cell_type": "markdown",
   "metadata": {},
   "source": [
    "On peut faire (bien) mieux que linéaire, mais il va falloir faire des maths plus compliquées et **utiliser des matrices**\n",
    "\n",
    "**question 3** Calculer $\n",
    "\\begin{pmatrix}\n",
    "\tu_{1} \\\\\n",
    "\tu_{2} \\\\\n",
    "\\end{pmatrix} = \n",
    "\\begin{pmatrix}\n",
    "\t0 & 1\\\\\n",
    "\t1 & 1\\\\\n",
    "\\end{pmatrix} \n",
    "\\begin{pmatrix}\n",
    "\t0 \\\\\n",
    "\t1 \\\\\n",
    "\\end{pmatrix}  $\n",
    "\n",
    "\n",
    "Calculer maintenant $\\begin{pmatrix}\n",
    "\tu_{n} \\\\\n",
    "\tu_{n+1} \\\\\n",
    "\\end{pmatrix} =\\begin{pmatrix}\n",
    "\t0 & 1\\\\\n",
    "\t1 & 1\\\\\n",
    "\\end{pmatrix}  \\begin{pmatrix}\n",
    "\tu_{n-1} \\\\\n",
    "\tu_{n} \\\\\n",
    "\\end{pmatrix}  $\n",
    "\n",
    "En utilisant cela, `np.array`, `np.dot`, `np.linalg.matrix_power` et eventuellement d'autres fonction numpy, calculer  $F_{500}$."
   ]
  },
  {
   "cell_type": "code",
   "execution_count": null,
   "metadata": {},
   "outputs": [],
   "source": []
  },
  {
   "cell_type": "markdown",
   "metadata": {},
   "source": [
    "Tracer le temps nécessaire pour calculer $F_n$ comme fonction de $n$ pour  $n\\leq 25000$\n",
    "\n",
    "On a ici un compromis : on utilise des maths plus poussées, mais la compléxité passe de linéaire ($O(n)$) à logarithmique ($O(\\ln n)$)."
   ]
  },
  {
   "cell_type": "code",
   "execution_count": null,
   "metadata": {},
   "outputs": [],
   "source": [
    "n=25000\n",
    "rg = range(0, n)\n",
    "t=[0 for i in rg]\n",
    "\n",
    "\n",
    "    \n",
    "\n",
    "\n",
    "\n",
    "plt.title('temps de calcul de la suite de Fibonacci, version R1.07 est utile')\n",
    "\n",
    "plt.plot(rg, np.exp(t), 'bo', markersize=4)\n",
    "plt.grid()\n",
    "plt.show()  "
   ]
  },
  {
   "cell_type": "markdown",
   "metadata": {},
   "source": [
    "**question 4** Summarize your observations about these 3 methods."
   ]
  },
  {
   "cell_type": "markdown",
   "metadata": {},
   "source": [
    "_TODO_"
   ]
  },
  {
   "cell_type": "markdown",
   "metadata": {},
   "source": [
    "**question bonus**\n",
    "Tracer (de manière classique et en échelle <tt>log</tt>) la suite $F_n$ pour $n\\leq 250$. Qu'observez vous ? Proposer une approximation de $F_n$ pour $n$ très grand.\n",
    "\n",
    "\n",
    "Pour aller (encore) plus loin, vous pouvez tracer la suite des quotients $(\\frac{F_{n+1}}{F_n})_n$\n",
    "\n",
    "_Un nombre pertinent ici est le nombre d'or $\\phi =\\frac{1+\\sqrt{5}}{2} \\approx 1,618$_"
   ]
  },
  {
   "cell_type": "markdown",
   "metadata": {},
   "source": [
    "### Bonus : encore plus de modèles : Discrete time logistic map\n",
    "\n",
    "Un biologiste passant par là jette un coup d'œil sur le travail des mathématiciens, et, après un moment de choc et d'effroi, leur explique que les lapins ne peuvent pas se reproduire à l'infini<sup>[reference needed][]</sup> et sont rarement immortels  et peuvent, s'ils sont affamés car la population dépasse la quantité de ressource disponible, mourir.\n",
    "\n",
    "\n",
    "Pour améliorer le modèle, il propose de suivre [Pierre François Verhulst](https://fr.wikipedia.org/wiki/Pierre_Fran%C3%A7ois_Verhulst) et de supposer que la population ne peut en aucun cas excéder une certaine valeur, $M$\n",
    "\n",
    "On suppose également que le taux de reproduction est proportionel au nombre de lapins, mais ralenti si les ressources diminue, avec un taux de  $\\rho$\n",
    "\n",
    "On obtient la suite :\n",
    "\n",
    "$$p_{n+1} = \\rho p_{n}(M-p_{n}) $$\n",
    "\n",
    "_remarque_ au lieu d'utiliser 2 paramètres, on va poser $x_n = \\frac{p_n}{M}$ (donc$0\\leq x_n \\leq 1$ est la portion de lapins par rapport à la population maximale.\n",
    "\n",
    "Alors : \n",
    "\\begin{align*}\n",
    "\\frac{1}{M}p_{n+1} &= \\frac{\\rho}{M}( p_{n}M(1-\\frac{p_{n}}{M})) \\\\\n",
    "x_{n+1} &= {M\\rho}x_{n}(1-x_{n})\n",
    "\\end{align*}\n",
    "\n",
    "Si on pose $\\mu = M \\rho$, on trouve la version classique de la **suite logistique**\n",
    "\n",
    "$$x_{n+1} = \\mu x_{n}(1-x_{n}) $$\n",
    "\n",
    "\n",
    "[reference needed]: https://www.explainxkcd.com/wiki/index.php/285:_Wikipedian_Protester"
   ]
  },
  {
   "cell_type": "markdown",
   "metadata": {},
   "source": [
    "**question 1**  Écrire une fonction <tt>logistic</tt> qui prend en paramètre $\\mu$ et $x$, et qui retourne $\\mu x  (1 - x)$"
   ]
  },
  {
   "cell_type": "code",
   "execution_count": null,
   "metadata": {},
   "outputs": [],
   "source": [
    "#https://www.imo.universite-paris-saclay.fr/~perrin/Conferences/logistiqueDP.pdf\n",
    "#https://www.imo.universite-paris-saclay.fr/~perrin/Conferences/logistiqueDP2.pdf\n",
    "\n",
    "def logistic(mu, x): \n",
    "    return -1"
   ]
  },
  {
   "cell_type": "markdown",
   "metadata": {},
   "source": [
    "**question 2** Étudier l'évolution de la population pour ce modèle, en prenant comme ratio initial $x_0 =.42$ et comme paramètre $\\mu = 1.5$"
   ]
  },
  {
   "cell_type": "code",
   "execution_count": null,
   "metadata": {},
   "outputs": [],
   "source": []
  },
  {
   "cell_type": "code",
   "execution_count": null,
   "metadata": {},
   "outputs": [],
   "source": [
    "plt.scatter(t, y, label='rabbits')\n",
    "plt.xlabel('time')\n",
    "plt.ylabel('population')\n",
    "plt.grid(linestyle=':')\n",
    "plt.legend()\n",
    "plt.show()"
   ]
  },
  {
   "cell_type": "markdown",
   "metadata": {},
   "source": [
    "**question 2 bis** Même question avec ratio initial $.1$ et paramètre $\\mu = 2.7$"
   ]
  },
  {
   "cell_type": "code",
   "execution_count": null,
   "metadata": {},
   "outputs": [],
   "source": [
    "mu = 2.7\n",
    "y0= .1\n",
    "y=np.zeros((100))\n",
    "t = np.linspace(0, 99, 100)\n",
    "\n",
    "\n",
    "y[0]=y0\n",
    "for i in range(1,100):\n",
    "    y[i]=logistic(mu,y[i-1])\n",
    "    \n",
    "plt.scatter(t,y, label='rabbits')\n",
    "plt.xlabel('time')\n",
    "plt.ylabel('population')\n",
    "plt.grid(linestyle=':')\n",
    "plt.legend()\n",
    "plt.show()"
   ]
  },
  {
   "cell_type": "markdown",
   "metadata": {},
   "source": [
    "**question 2 ter** Même question avec ratio initial $.1$ et paramètre $\\mu = 3.2$"
   ]
  },
  {
   "cell_type": "code",
   "execution_count": null,
   "metadata": {},
   "outputs": [],
   "source": [
    "mu = 3.2\n",
    "y0= .1\n",
    "y=np.zeros((100))\n",
    "t = np.linspace(0, 99, 100)\n",
    "\n",
    "\n",
    "y[0]=y0\n",
    "for i in range(1,100):\n",
    "    y[i]=logistic(mu,y[i-1])\n",
    "    \n",
    "plt.scatter(t,y, label='rabbits')\n",
    "plt.xlabel('time')\n",
    "plt.ylabel('population')\n",
    "plt.grid(linestyle=':')\n",
    "plt.legend()\n",
    "plt.show()"
   ]
  },
  {
   "cell_type": "markdown",
   "metadata": {},
   "source": [
    "### Bonus YAPoMo: yet another population model : Discrete time Lotka-Volterra model\n",
    "\n",
    "    \n",
    "Dans la nature, les lapin vivent dans un environnement dangereux et font face à de nombreux danger ([sauf en Australie](https://en.wikipedia.org/wiki/Rabbits_in_Australia)).\n",
    "\n",
    "Parmi ces dangers, les renards.\n",
    "\n",
    "On suppose que les lapins se reproduisent (avec un taux $\\alpha$) mais sont parfois mangés par les renards (avec un taux $\\beta$).\n",
    "\n",
    "D'un autre côté, la population de renards est aussi influencée par la population de lapins : les renards se reproduisent plus s'ils peuvent beaucoup manger (c-à-d s'il y a beaucoup de lapins) mais leur population décroit s'ils sont trop nombreux et rentrent en concurence pour la nouriture.\n",
    "\n",
    "\n",
    "En prenant cela en compte, une seconde biologiste venue à la rescousse des matheux propose d'utiliser deux suites, définies et reliées par les équations :\n",
    "\n",
    "$\\begin{cases} x_{n+1} &= (\\alpha+1)x_n -\\beta x_ny_n \\\\\n",
    "y_{n+1} &= (-\\gamma+1)y_n + \\delta x_ny_n\n",
    "\\end{cases}$\n",
    "\n",
    "\n",
    "_Historiquement, ces équations ont été proposées par Lotka (pour expliquer des réactions chimiques) et indépendamment par Volterra (pour expliquer pourquoi, après la première guerre mondiale, les stock de poissons avaient diminués alors que la pêche s'était quasiment arrêtée  pendant 4 ans)_"
   ]
  },
  {
   "cell_type": "code",
   "execution_count": null,
   "metadata": {},
   "outputs": [],
   "source": [
    "#https://webusers.imj-prg.fr/~pierre-antoine.guiheneuf/Fichiers/LotkaDiscret.pdf\n",
    "\n",
    "\n",
    "#pas de temps (le système est la discrétisation d'une équation continue)\n",
    "h=0.01\n",
    "\n",
    "# Parameters.\n",
    "a = 0.5*h\n",
    "b = 0.01*h\n",
    "c = 0.1*h\n",
    "d = 0.01*h\n",
    "\n",
    "t0 = 0.0       # Initial time.\n",
    "t1 = 200.0     # Final time.\n",
    "y0 = [10, 25]  # Initial population of species 0 and 1.\n",
    "\n"
   ]
  },
  {
   "cell_type": "code",
   "execution_count": null,
   "metadata": {},
   "outputs": [],
   "source": [
    "t = np.arange(t0, t1, h)\n",
    "\n",
    "\n",
    "y=np.zeros((len(t),2))\n",
    "\n",
    "y[0]=y0\n",
    "for i in range(1,len(t)):\n",
    "    xn,yn=y[i-1]\n",
    "    y[i]=[(a +1)*xn -b*xn*yn,(-c+1)*yn + d*xn*yn]\n",
    "    \n",
    "print(y)\n"
   ]
  },
  {
   "cell_type": "code",
   "execution_count": null,
   "metadata": {},
   "outputs": [],
   "source": [
    "plt.scatter(t, y[:, 0], label='prey')\n",
    "plt.scatter(t, y[:, 1], label='predator')\n",
    "plt.xlabel('time')\n",
    "plt.ylabel('population')\n",
    "plt.grid(linestyle=':')\n",
    "plt.legend()\n",
    "plt.show()"
   ]
  },
  {
   "cell_type": "code",
   "execution_count": null,
   "metadata": {},
   "outputs": [],
   "source": [
    "# Same plot, but as an animation.\n",
    "# http://louistiao.me/posts/notebooks/embedding-matplotlib-animations-in-jupyter-notebooks/\n",
    "FRAMES = 200\n",
    "\n",
    "fig, ax = plt.subplots()\n",
    "ax.grid(linestyle=':')\n",
    "ax.set_xlim((t0, t1))  # Range of x-axis.\n",
    "ax.set_ylim((0, 100))  # Range of y-axis.\n",
    "\n",
    "line0 = ax.plot([], [], lw=2)[0]\n",
    "line1 = ax.plot([], [], lw=2)[0]\n",
    "\n",
    "def init():\n",
    "    line0.set_data([], [])\n",
    "    line1.set_data([], [])\n",
    "    return [line0, line1]\n",
    "\n",
    "def animate(i):\n",
    "    # Take only first (i/FRAMES) of the total number of points.\n",
    "    k = len(t) * i // FRAMES\n",
    "    line0.set_data(t[:k], y[:k, 0])\n",
    "    line1.set_data(t[:k], y[:k, 1])\n",
    "    return [line0, line1]\n",
    "\n",
    "anim = animation.FuncAnimation(fig, animate, init_func=init,\n",
    "                               frames=FRAMES, interval=50, blit=True)\n",
    "#une fenêtre vide s'ouvre, c'est normal"
   ]
  },
  {
   "cell_type": "code",
   "execution_count": null,
   "metadata": {},
   "outputs": [],
   "source": [
    "# Create a video.\n",
    "HTML(anim.to_html5_video())"
   ]
  },
  {
   "cell_type": "code",
   "execution_count": null,
   "metadata": {},
   "outputs": [],
   "source": []
  },
  {
   "cell_type": "code",
   "execution_count": null,
   "metadata": {},
   "outputs": [],
   "source": []
  }
 ],
 "metadata": {
  "kernelspec": {
   "display_name": "Python 3 (ipykernel)",
   "language": "python",
   "name": "python3"
  },
  "language_info": {
   "codemirror_mode": {
    "name": "ipython",
    "version": 3
   },
   "file_extension": ".py",
   "mimetype": "text/x-python",
   "name": "python",
   "nbconvert_exporter": "python",
   "pygments_lexer": "ipython3",
   "version": "3.11.6"
  }
 },
 "nbformat": 4,
 "nbformat_minor": 4
}
