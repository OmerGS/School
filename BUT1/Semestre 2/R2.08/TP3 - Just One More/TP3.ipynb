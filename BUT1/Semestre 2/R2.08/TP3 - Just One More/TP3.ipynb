{
 "cells": [
  {
   "cell_type": "markdown",
   "metadata": {},
   "source": [
    "# <center>R2.08 - Outils numériques pour les statistiques descriptives <br>TP3 - \"Just One More\" Paradox<center>\n",
    "\n",
    "\n",
    "_Tom Ferragut, Regis Fleurquin, Lucie Naert_\n",
    "\n",
    "_IUT de Vannes, BUT Informatique_"
   ]
  },
  {
   "cell_type": "markdown",
   "metadata": {},
   "source": [
    "### Imports"
   ]
  },
  {
   "cell_type": "code",
   "execution_count": 1,
   "metadata": {},
   "outputs": [
    {
     "name": "stderr",
     "output_type": "stream",
     "text": [
      "C:\\Users\\omerf\\AppData\\Local\\Temp\\ipykernel_29028\\3439630666.py:3: DeprecationWarning: \n",
      "Pyarrow will become a required dependency of pandas in the next major release of pandas (pandas 3.0),\n",
      "(to allow more performant data types, such as the Arrow string type, and better interoperability with other libraries)\n",
      "but was not found to be installed on your system.\n",
      "If this would cause problems for you,\n",
      "please provide us feedback at https://github.com/pandas-dev/pandas/issues/54466\n",
      "        \n",
      "  import pandas as pd\n"
     ]
    }
   ],
   "source": [
    "# importation des packages\n",
    "import numpy as np\n",
    "import pandas as pd \n",
    "import matplotlib.pyplot as plt"
   ]
  },
  {
   "cell_type": "markdown",
   "metadata": {},
   "source": [
    "## 1 - Échauffement\n",
    "\n",
    "Avant de s'attaquer au paradoxe \"Just One More\", voici deux petits exercices d'application des définitions de moyenne et de médiane."
   ]
  },
  {
   "cell_type": "markdown",
   "metadata": {},
   "source": [
    ">__Question 1 :__ Dans une cellule Markdown, calculer la moyenne et la médiane de chacune des séries suivantes : \n",
    ">- 5, 8, 5, 10, 9, 6, 8, 4, 9\n",
    ">- 75, 95, 80, 90, 78, 92, 88, 72, 80, 95"
   ]
  },
  {
   "cell_type": "markdown",
   "metadata": {},
   "source": [
    "- Moyenne = 7.11 ; Médiane = 8\n",
    "- Moyenne = 84.5 ; Médiane = 84"
   ]
  },
  {
   "cell_type": "markdown",
   "metadata": {},
   "source": [
    "Moyenne 1 : (5+8+5+10+9+6+8+4+9)/9 = 7.11\n",
    "Mediane 1 : 8\n",
    "Moyenne 2 : (75+95+80+90+78+92+88+72+80+95)/10 = 84.5\n",
    "Mediane 2 : 80"
   ]
  },
  {
   "cell_type": "markdown",
   "metadata": {},
   "source": [
    ">__Question 2 :__ Dans une cellule Markdown, calculer la moyenne et la médiane de chacun des deux tableaux agrégés suivants.\n",
    "> ### <center>Tableau 1 : Notes (/20) <center>\n",
    ">\n",
    "><table style=\"width:50%; text-align:center;\"; border=\"10\"; bordercolor=\"red\"; align=\"center\">\n",
    ">  <tr>\n",
    ">    <th style=\"text-align:center;\">Notes (/20)</th>\n",
    ">    <th style=\"text-align:center;\">7</th>\n",
    ">    <th style=\"text-align:center;\">8</th>\n",
    ">    <th style=\"text-align:center;\">10</th>\n",
    ">    <th style=\"text-align:center;\">11</th>\n",
    ">    <th style=\"text-align:center;\">12</th>\n",
    ">  </tr>\n",
    ">  <tr>\n",
    ">    <td style=\"text-align:center;\"><strong>Effectif</strong></td>\n",
    ">    <td style=\"text-align:center;\">3</td>\n",
    ">    <td style=\"text-align:center;\">5</td>\n",
    ">    <td style=\"text-align:center;\">2</td>\n",
    ">    <td style=\"text-align:center;\">6</td>\n",
    ">    <td style=\"text-align:center;\">5</td>\n",
    ">  </tr>\n",
    "></table>\n",
    ">    \n",
    "> ### <center>Tableau 2: Durée (en heures)<center> \n",
    ">\n",
    "><table style=\"width:100%; text-align:center;\" border=\"10\" bordercolor=\"red\" align=\"center\">\n",
    ">  <tr>\n",
    ">    <th style=\"text-align:center;\">Durée (en heures)</th>\n",
    ">    <th style=\"text-align:center;\">$0\\leq t < 400$</th>\n",
    ">    <th style=\"text-align:center;\">$400\\leq t < 600$</th>\n",
    ">    <th style=\"text-align:center;\">$600\\leq t < 800$</th>\n",
    ">    <th style=\"text-align:center;\">$800\\leq t < 1000$</th>\n",
    ">    <th style=\"text-align:center;\">$1000\\leq t < 1200$</th>\n",
    ">    <th style=\"text-align:center;\">$1200\\leq t < 1400$</th>\n",
    ">  </tr>\n",
    ">  <tr>\n",
    ">    <td style=\"text-align:center;\"><strong>Nombre d'ampoules</strong></td>\n",
    ">    <td style=\"text-align:center;\">$1$</td>\n",
    ">    <td style=\"text-align:center;\">$15$</td>\n",
    ">    <td style=\"text-align:center;\" style=\"text-align:center;\">$46$</td>\n",
    ">    <td style=\"text-align:center;\">$63$</td>\n",
    ">    <td style=\"text-align:center;\">$74$</td>\n",
    ">    <td style=\"text-align:center;\">$1$</td>\n",
    ">  </tr>\n",
    "></table>           \n",
    "\n"
   ]
  },
  {
   "cell_type": "markdown",
   "metadata": {},
   "source": [
    "- 1er Tableau : Moyenne = 9.85 ; Médiane = 11 \n",
    "- 2ème Tableau : Moyenne = 896.5 ; Médiane = 900 "
   ]
  },
  {
   "cell_type": "markdown",
   "metadata": {},
   "source": [
    "## 2 - \"Just One More\" Paradox\n",
    "\n",
    "Jouons à un jeu :\n",
    "- Vous commencez avec 100€, et jouez à Pile ou Face plusieurs fois d'affilés. \n",
    "- À chaque fois que vous obtenez un Pile, vous gagnez $80\\%$ de votre cagnotte.\n",
    "- À chaque fois que vous obtenez Face vous perdez $50\\%$ de votre cagnotte.\n",
    "\n",
    "Une pièce (équilibré) ayant autant de chance d'obtenir Pile ou Face, votre gain moyen est :\n",
    "$$\\text{Gain Moyen}=\\left(\\frac{1}{2}\\times 0,8 - \\frac{1}{2} \\times 0.5 \\right) \\text{Cagnotte}=0.15 \\times \\text{Cagnotte} > 0 !!!$$ \n",
    "\n",
    "En moyenne on a donc l'impression que l'on gagne de l'argent ! Joueriez-vous à ce jeu ?\n",
    "\n",
    "--------------------\n",
    "\n",
    "Nous allons voir dans ce TP qu'à priori, ce jeu n'est en fait pas avantageux pour le joueur, c'est pour cela que l'on parle de **paradoxe**. \n",
    "\n",
    "Ce TP est inspiré de la vidéo Youtube suivante.\n",
    "- https://youtu.be/_FuuYSM7yOo?si=HBCPLJnIFsoM4prG \n",
    "\n",
    "--------------------\n",
    "\n",
    "L'objectif de ce TP est de générer des lancers de pièces pour simuler une population d'individus jouant à ce jeu, dans le but d'étudier le gain moyen et médian en pratique.\n",
    "\n"
   ]
  },
  {
   "cell_type": "markdown",
   "metadata": {},
   "source": [
    "\n",
    "### 2.a - Génération pseudo-aléatoire des données"
   ]
  },
  {
   "cell_type": "markdown",
   "metadata": {},
   "source": [
    "Pour générer des nombre pseudo-aléatoire nous allons utiliser numpy, plus précisément la méthode `np.random.randint` quand il s'agit d'entiers.\n",
    "\n",
    "Commençons par générer des lancés de dés, et regroupons ces informations dans un tableau."
   ]
  },
  {
   "cell_type": "markdown",
   "metadata": {},
   "source": [
    ">__Question 3 :__ Générer une liste `lances_des` contenant **1000**  entiers aléatoires entre $1$ et $6$. Puis grâce à la commande `pd.DataFrame`, créer un tableau `Lances` contenant ces lancés."
   ]
  },
  {
   "cell_type": "code",
   "execution_count": 2,
   "metadata": {},
   "outputs": [
    {
     "name": "stdout",
     "output_type": "stream",
     "text": [
      "     Lance_de_des\n",
      "0               4\n",
      "1               3\n",
      "2               3\n",
      "3               4\n",
      "4               6\n",
      "..            ...\n",
      "995             2\n",
      "996             1\n",
      "997             5\n",
      "998             2\n",
      "999             1\n",
      "\n",
      "[1000 rows x 1 columns]\n"
     ]
    }
   ],
   "source": [
    "# Création d'un DataFrame avec une colonne contenant les résultats d'un lancé de dés\n",
    "def lances_des(n):\n",
    "    return np.random.randint(1, 7, size=n)\n",
    "\n",
    "lances_des(1000)\n",
    "Lances = pd.DataFrame({'Lance_de_des': lances_des(1000)})\n",
    "\n",
    "print(Lances)"
   ]
  },
  {
   "cell_type": "markdown",
   "metadata": {},
   "source": [
    ">__Question 4 :__  Ajouter deux colonnes supplémentaires au Dataframe `Lances`:\n",
    ">- `Somme_de_deux_des` contenant la somme de deux lancés de dés.\n",
    ">- `Somme_de_trois_des` contenant la somme de trois lancés de dés."
   ]
  },
  {
   "cell_type": "code",
   "execution_count": 6,
   "metadata": {},
   "outputs": [
    {
     "name": "stdout",
     "output_type": "stream",
     "text": [
      "   Lancés  Somme_de_deux_des  Somme_de_trois_des\n",
      "0       6                  9                  10\n",
      "1       4                 10                   9\n",
      "2       4                  6                  10\n",
      "3       2                  8                   5\n",
      "4       1                  5                   6\n"
     ]
    }
   ],
   "source": [
    "import pandas as pd\n",
    "import random\n",
    "\n",
    "# Générer une liste de 1000 entiers aléatoires entre 1 et 6\n",
    "lances_des = [random.randint(1, 6) for _ in range(1000)]\n",
    "\n",
    "# Créer un DataFrame à partir de la liste\n",
    "Lances = pd.DataFrame(lances_des, columns=['Lancés'])\n",
    "\n",
    "# Ajouter une colonne contenant la somme de deux lancés de dés\n",
    "Lances['Somme_de_deux_des'] = Lances['Lancés'].apply(lambda x: random.randint(1, 6) + x)\n",
    "\n",
    "# Ajouter une colonne contenant la somme de trois lancés de dés\n",
    "Lances['Somme_de_trois_des'] = Lances.apply(lambda row: row['Lancés'] + random.randint(1, 6) + random.randint(1, 6), axis=1)\n",
    "\n",
    "# Afficher les 5 premières lignes du DataFrame avec les nouvelles colonnes\n",
    "print(Lances.head())\n"
   ]
  },
  {
   "cell_type": "markdown",
   "metadata": {},
   "source": [
    ">__Question 5 :__ En vous inspirant du TP1, tracer des diagrammes en barre représentant la distribution des valeurs prisent par 1000 lancés de 1 dés, sommes de 2 dés et sommes de 3 dés."
   ]
  },
  {
   "cell_type": "code",
   "execution_count": 7,
   "metadata": {},
   "outputs": [
    {
     "data": {
      "image/png": "[encoded data removed]",
      "text/plain": [
       "<Figure size 800x1200 with 3 Axes>"
      ]
     },
     "metadata": {},
     "output_type": "display_data"
    }
   ],
   "source": [
    "# Générer une liste de 1000 entiers aléatoires entre 1 et 6\n",
    "lances_des = [random.randint(1, 6) for _ in range(1000)]\n",
    "\n",
    "# Créer un DataFrame à partir de la liste\n",
    "Lances = pd.DataFrame(lances_des, columns=['Lancés'])\n",
    "\n",
    "# Ajouter une colonne contenant la somme de deux lancés de dés\n",
    "Lances['Somme_de_deux_des'] = Lances['Lancés'].apply(lambda x: random.randint(1, 6) + x)\n",
    "\n",
    "# Ajouter une colonne contenant la somme de trois lancés de dés\n",
    "Lances['Somme_de_trois_des'] = Lances.apply(lambda row: row['Lancés'] + random.randint(1, 6) + random.randint(1, 6), axis=1)\n",
    "\n",
    "# Tracer des diagrammes en barre pour chaque distribution\n",
    "fig, axs = plt.subplots(3, 1, figsize=(8, 12))\n",
    "\n",
    "# Distribution des valeurs prises par 1 dé\n",
    "Lances['Lancés'].value_counts().sort_index().plot(kind=\"bar\", color='blue', ax=axs[0])\n",
    "axs[0].set_xlabel('Valeurs')\n",
    "axs[0].set_ylabel('Effectifs')\n",
    "axs[0].set_title('Distribution des valeurs prises par 1 dé')\n",
    "\n",
    "# Distribution des sommes de 2 dés\n",
    "Lances['Somme_de_deux_des'].value_counts().sort_index().plot(kind=\"bar\", color='red', ax=axs[1])\n",
    "axs[1].set_xlabel('Sommes')\n",
    "axs[1].set_ylabel('Effectifs')\n",
    "axs[1].set_title('Distribution des sommes de 2 dés')\n",
    "\n",
    "# Distribution des sommes de 3 dés\n",
    "Lances['Somme_de_trois_des'].value_counts().sort_index().plot(kind=\"bar\", color='green', ax=axs[2])\n",
    "axs[2].set_xlabel('Sommes')\n",
    "axs[2].set_ylabel('Effectifs')\n",
    "axs[2].set_title('Distribution des sommes de 3 dés')\n",
    "\n",
    "# Ajuster l'espacement entre les sous-graphiques\n",
    "plt.tight_layout()\n",
    "\n",
    "# Afficher les graphiques\n",
    "plt.show()\n"
   ]
  },
  {
   "cell_type": "markdown",
   "metadata": {},
   "source": [
    "La distribution des valeurs se rapproche de plus en plus d'une Gaussienne ! Cette distribution très particulière est celle qui apparaît \"le plus\" dans des événements aléatoire."
   ]
  },
  {
   "cell_type": "markdown",
   "metadata": {},
   "source": [
    "### 2.b - Simulation et étude du paradoxe"
   ]
  },
  {
   "cell_type": "markdown",
   "metadata": {},
   "source": [
    "Nous pouvons à présent simuler des joueurs. Nous modéliserons les lancer de pièces par un nombre aléatoire : $1$ pour Pile et $0$ pour Face."
   ]
  },
  {
   "cell_type": "markdown",
   "metadata": {},
   "source": [
    ">__Question 6 :__ Ecrire une fonction `lance_pile_face` prenant en entré le nombre de lancé à réaliser et le nombre d'individu ayant joué, puis qui donne en sorti un tableau contenant pour chaque personne le nombre de fois qu'ils ont obtenu Pile."
   ]
  },
  {
   "cell_type": "code",
   "execution_count": 12,
   "metadata": {},
   "outputs": [],
   "source": [
    "import numpy as np\n",
    "\n",
    "def lance_pile_face(nombre_lances, nombre_individus):\n",
    "    # Générer un tableau aléatoire de lancers de pièces (1 pour Pile, 0 pour Face)\n",
    "    lancers = np.random.randint(2, size=(nombre_individus, nombre_lances))\n",
    "    # Calculer le nombre de fois où chaque individu a obtenu Pile\n",
    "    nombre_piles = np.sum(lancers, axis=1)\n",
    "    return nombre_piles\n",
    "\n",
    "# Exemple d'utilisation de la fonction\n",
    "nombre_lances = 1000\n",
    "nombre_individus = 10\n",
    "resultats = lance_pile_face(nombre_lances, nombre_individus)\n",
    "print(\"Résultats des joueurs :\", resultats)\n"
   ]
  },
  {
   "cell_type": "markdown",
   "metadata": {},
   "source": [
    "Si l'on réalise $l$ lancés de pièces et que l'on obtient $p$ Piles, notre argent devient alors : $cagnotte=100\\cdot 1.8^{p} \\cdot 0.5^{l-p}$\n",
    "\n",
    "En utilisant cette formule nous pouvons inclure la cagnotte de chaque individu dans notre tableau."
   ]
  },
  {
   "cell_type": "markdown",
   "metadata": {},
   "source": [
    ">__Question 7 :__ Ajouter au Dataframe (construit par `lance_pile_face`) une colonne `cagnotte` contenant l'argent en possession d'un joueur après avoir joué. Puis, calculer la moyenne et la médiane des gains des individus."
   ]
  },
  {
   "cell_type": "code",
   "execution_count": 18,
   "metadata": {},
   "outputs": [
    {
     "name": "stdout",
     "output_type": "stream",
     "text": [
      "Moyenne des gains des individus : 2.4127577400788067\n",
      "Médiane des gains des individus : 1.0\n"
     ]
    }
   ],
   "source": [
    "import numpy as np\n",
    "import pandas as pd\n",
    "\n",
    "def lance_pile_face(nombre_lances, nombre_individus):\n",
    "    # Générer un tableau aléatoire de lancers de pièces (1 pour Pile, 0 pour Face)\n",
    "    lancers = np.random.randint(2, size=(nombre_individus, nombre_lances))\n",
    "    # Calculer le nombre de fois où chaque individu a obtenu Pile\n",
    "    nombre_piles = np.sum(lancers, axis=1)\n",
    "    return nombre_piles\n",
    "\n",
    "def calcul_cagnotte(nombre_piles, nombre_lances):\n",
    "    # Calcul de la cagnotte pour chaque joueur\n",
    "    cagnotte = 100 * (1.8 ** nombre_piles) * (0.5 ** (nombre_lances - nombre_piles))\n",
    "    # Appliquer un seuil minimum de 1€\n",
    "    cagnotte = np.maximum(cagnotte, 1)\n",
    "    return cagnotte\n",
    "\n",
    "# Paramètres de la simulation\n",
    "nombre_lances = 1000\n",
    "nombre_individus = 1000\n",
    "\n",
    "# Génération des résultats des joueurs\n",
    "resultats = lance_pile_face(nombre_lances, nombre_individus)\n",
    "\n",
    "# Calcul des cagnottes des joueurs\n",
    "cagnottes = calcul_cagnotte(resultats, nombre_lances)\n",
    "\n",
    "# Création du DataFrame contenant les résultats et les cagnottes\n",
    "df = pd.DataFrame({'Nombre_de_Piles': resultats, 'Cagnotte': cagnottes})\n",
    "\n",
    "# Calcul de la moyenne et de la médiane des gains des joueurs\n",
    "moyenne_gains = df['Cagnotte'].mean()\n",
    "median_gains = df['Cagnotte'].median()\n",
    "\n",
    "print(\"Moyenne des gains des individus :\", moyenne_gains)\n",
    "print(\"Médiane des gains des individus :\", median_gains)\n"
   ]
  },
  {
   "cell_type": "markdown",
   "metadata": {},
   "source": [
    ">__Question 8 :__ La stratégie intitiale à l'air perdante pour le jouer. Essayons une autre stratégie : on mise toujours la même somme de 100€ (et non plus la totalité de notre cagnotte). Calculer le nouveau gain moyen et médian puis commenter."
   ]
  },
  {
   "cell_type": "code",
   "execution_count": 22,
   "metadata": {},
   "outputs": [
    {
     "name": "stdout",
     "output_type": "stream",
     "text": [
      "Nouvelle stratégie :\n",
      "Moyenne des gains des individus : 0.0\n",
      "Médiane des gains des individus : 0.0\n"
     ]
    }
   ],
   "source": [
    "import numpy as np\n",
    "import pandas as pd\n",
    "\n",
    "def lance_pile_face(nombre_lances, nombre_individus):\n",
    "    # Générer un tableau aléatoire de lancers de pièces (1 pour Pile, 0 pour Face)\n",
    "    lancers = np.random.randint(2, size=(nombre_individus, nombre_lances))\n",
    "    # Calculer le nombre de fois où chaque individu a obtenu Pile\n",
    "    nombre_piles = np.sum(lancers, axis=1)\n",
    "    return nombre_piles\n",
    "\n",
    "def calcul_cagnotte_strategie_2(nombre_piles, nombre_lances):\n",
    "    cagnotte = np.zeros_like(nombre_piles, dtype=float)\n",
    "    for i in range(len(cagnotte)):\n",
    "        montant_mise = 100  # Montant de la mise fixe\n",
    "        for _ in range(nombre_lances):\n",
    "            if cagnotte[i] >= montant_mise:  # Vérifier si le joueur peut miser\n",
    "                if np.random.rand() < 0.5:\n",
    "                    cagnotte[i] -= montant_mise\n",
    "                else:\n",
    "                    cagnotte[i] += montant_mise * (1.8 ** nombre_piles[i]) * (0.5 ** (nombre_lances - nombre_piles[i]))\n",
    "            else:\n",
    "                break  # Arrêter de jouer si la cagnotte est insuffisante\n",
    "    return cagnotte\n",
    "\n",
    "# Paramètres de la simulation\n",
    "nombre_lances = 1000\n",
    "nombre_individus = 1000\n",
    "\n",
    "# Génération des résultats des joueurs\n",
    "resultats = lance_pile_face(nombre_lances, nombre_individus)\n",
    "\n",
    "# Calcul des cagnottes des joueurs avec la nouvelle stratégie\n",
    "cagnottes_strategie_2 = calcul_cagnotte_strategie_2(resultats, nombre_lances)\n",
    "\n",
    "# Création d'un DataFrame pour les résultats avec la nouvelle stratégie\n",
    "df_strategie_2 = pd.DataFrame({'Nombre_de_Piles': resultats, 'Cagnotte_Strategie_2': cagnottes_strategie_2})\n",
    "\n",
    "# Calcul de la moyenne et de la médiane des gains des joueurs avec la nouvelle stratégie\n",
    "moyenne_gains_strategie_2 = df_strategie_2['Cagnotte_Strategie_2'].mean()\n",
    "median_gains_strategie_2 = df_strategie_2['Cagnotte_Strategie_2'].median()\n",
    "\n",
    "print(\"Nouvelle stratégie :\")\n",
    "print(\"Moyenne des gains des individus :\", moyenne_gains_strategie_2)\n",
    "print(\"Médiane des gains des individus :\", median_gains_strategie_2)"
   ]
  },
  {
   "cell_type": "markdown",
   "metadata": {},
   "source": [
    ">__Question 9 : (Bonus)__ Ecrire une fonction qui prend comme paramètres : \n",
    ">- Le type de stratégie\n",
    ">- Les paramètres de gains et de pertes\n",
    ">- Le nombre d'individus\n",
    ">- Le nombre de lancés\n",
    ">\n",
    ">Et qui trace sur un même graphique :\n",
    ">- L'évolution de la cagnotte de chaque individus \n",
    ">- Lévolution de la moyenne et de la médiane.\n",
    ">\n",
    ">Commenter."
   ]
  },
  {
   "cell_type": "code",
   "execution_count": 10,
   "metadata": {},
   "outputs": [
    {
     "ename": "SyntaxError",
     "evalue": "incomplete input (280527173.py, line 3)",
     "output_type": "error",
     "traceback": [
      "\u001b[1;36m  Cell \u001b[1;32mIn[10], line 3\u001b[1;36m\u001b[0m\n\u001b[1;33m    ####TODO####\u001b[0m\n\u001b[1;37m                ^\u001b[0m\n\u001b[1;31mSyntaxError\u001b[0m\u001b[1;31m:\u001b[0m incomplete input\n"
     ]
    }
   ],
   "source": [
    "def simulation_cagnotte(strategie, gains, pertes, nombre_individus, nombre_lances):\n",
    "    \n",
    "    ####TODO####\n"
   ]
  }
 ],
 "metadata": {
  "kernelspec": {
   "display_name": "Python 3 (ipykernel)",
   "language": "python",
   "name": "python3"
  },
  "language_info": {
   "codemirror_mode": {
    "name": "ipython",
    "version": 3
   },
   "file_extension": ".py",
   "mimetype": "text/x-python",
   "name": "python",
   "nbconvert_exporter": "python",
   "pygments_lexer": "ipython3",
   "version": "3.11.8"
  }
 },
 "nbformat": 4,
 "nbformat_minor": 2
}
