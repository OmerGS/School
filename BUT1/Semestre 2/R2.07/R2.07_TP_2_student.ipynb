{
 "cells": [
  {
   "cell_type": "markdown",
   "metadata": {},
   "source": [
    "***\n",
    "\n",
    "# R2.07\n",
    "## TP2. Parcours et application\n",
    "\n",
    "***\n",
    "***\n",
    "\n",
    "Dans ce TP, tous les graphes seront orientés."
   ]
  },
  {
   "cell_type": "code",
   "execution_count": 1,
   "metadata": {},
   "outputs": [],
   "source": [
    "import networkx as nx\n",
    "import numpy as np\n",
    "import matplotlib.pyplot as plt\n",
    "%matplotlib inline\n",
    "#magic\n",
    "import warnings\n",
    "warnings.filterwarnings('ignore')"
   ]
  },
  {
   "cell_type": "code",
   "execution_count": 2,
   "metadata": {},
   "outputs": [],
   "source": [
    "def infoOriente(A):\n",
    "    \"\"\"\n",
    "     Renvoie caractéristiques essentielles du graphe orienté représenté par la matrice d'adjcence A\n",
    "\n",
    "    :param A: matrice d'adjacence\n",
    "    :type A:  numpy array carrée \n",
    "    :return: ordre [nombre de sommet] (int), taille [nombre d'arêtes] (int) et liste des degrés (array of int)\n",
    "    :rtype: numpy array of int, int, numpy array\n",
    "    \"\"\"\n",
    "    order=A.shape[0]\n",
    "    \n",
    "    degp=np.zeros(order,int)\n",
    "    degm=np.zeros(order,int)\n",
    "    \n",
    "    \n",
    "    for i in range(order):  #for each line\n",
    "        for j in range(order): #for each column\n",
    "            degp[i]=degp[i]+A[i][j]\n",
    "            degm[i]=degm[i]+A[j][i]\n",
    "\n",
    "            \n",
    "    size=int(sum(degp))   #lemme des poignées de mains (orienté)\n",
    "    return [order,size,degp,degm]"
   ]
  },
  {
   "cell_type": "markdown",
   "metadata": {},
   "source": [
    "***\n",
    "# <font color=blue>DFS, cycles et arcs</font> #\n",
    "***\n",
    "\n",
    "**To Do:**\n",
    "\n",
    "**_question 1_**\n",
    "\n",
    "Écrire un programme qui renvoie le (np.array) tableau des voisins d'un sommets $v$ dans un graphe donné par sa matrice d'adjacence."
   ]
  },
  {
   "cell_type": "code",
   "execution_count": 3,
   "metadata": {},
   "outputs": [
    {
     "name": "stdout",
     "output_type": "stream",
     "text": [
      "[1 4]\n",
      "[0 2 3]\n",
      "[1]\n",
      "[1 4]\n",
      "[0 3]\n"
     ]
    }
   ],
   "source": [
    "##todo\n",
    "\n",
    "def neighbours(A,v):\n",
    "    \"\"\"\n",
    "     Return the array of (out-)neighbours of v in the graph whose adjacency matrix is A\n",
    "\n",
    "    :param A: the adjacency matrix\n",
    "    :type A: a two dimensional square numpy array containing only integers\n",
    "    :param v: the considered vertex\n",
    "    :type v: integer\n",
    "    :return:  the array of (out-)neighbours of v in the graph whose adjacency matrix is A\n",
    "    :rtype:  an array of integer\n",
    "    \"\"\"\n",
    "    neighbours=[]\n",
    "    for i in range(len(A)):\n",
    "        if A[v][i] == 1:\n",
    "            neighbours.append(i)\n",
    "    \n",
    "\n",
    "    neighbours=np.asarray(neighbours)\n",
    "    return neighbours\n",
    "\n",
    "A=np.array(\n",
    "[[0,1,0,0,1], \n",
    "[1,0,1,1,0], \n",
    "[0,1,0,0,0], \n",
    "[0,1,0,0,1],\n",
    "[1,0,0,1,0]])\n",
    "\n",
    "\n",
    "for i in range(len(A)):\n",
    "    print(neighbours(A,i))"
   ]
  },
  {
   "cell_type": "markdown",
   "metadata": {},
   "source": [
    "On donne une implémentation (récursive) du parcours en profondeur. Prendre quelques minutes pour la comprendre.\n",
    "\n",
    "\n",
    "(on supprimera ensuite les <tt>print</tt> intempestifs)"
   ]
  },
  {
   "cell_type": "code",
   "execution_count": 4,
   "metadata": {},
   "outputs": [],
   "source": [
    "def DFS(A):\n",
    "    \"\"\"\n",
    "    (recursive) DFS traversal of a graph\n",
    "    \n",
    "    [main function]\n",
    "\n",
    "    :param A: the adjacency matrix\n",
    "    :type A: a two dimensional square numpy array containing only integers\n",
    "    :return:  array[parent,begin,end]\n",
    "    :return parent:  the array of parent of each vertex in the DFS tree\n",
    "    :rtype parent: array of intergers    \n",
    "    :return begin:  the array of times each vertex are seen for the first time in the traversal\n",
    "    :rtype begin: array of intergers\n",
    "    :return end:  the array of times each vertex are seen for the last time in the traversal\n",
    "    :rtype end: array of intergers        \n",
    "    \"\"\"\n",
    "            \n",
    "                \n",
    "    n=A.shape[0]\n",
    "\n",
    "    color=-1*np.ones(n)\n",
    "    parent=-1*np.ones(n)\n",
    "\n",
    "    begin=-1*np.ones(n)\n",
    "    end=-1*np.ones(n)\n",
    "    date=0    \n",
    "    \n",
    "    T=np.zeros((n,n))\n",
    "    for u in range(n):\n",
    "        \n",
    "        if color[u]==-1:\n",
    "            color, T,parent, date,begin,end = DFS_rec(A,color,T,parent,date,begin,end,u)   \n",
    "            \n",
    "    return [parent,T,begin,end]\n",
    "\n",
    "\n",
    "\n",
    "\n",
    "\n",
    "def DFS_rec(A,color,T,parent,date,begin,end,u):\n",
    "    \"\"\"\n",
    "    (recursive) DFS traversal of a graph\n",
    "    \n",
    "    [auxilliary function, actual algoritm]\n",
    "    \n",
    "    :param A: the adjacency matrix\n",
    "    :type A: a two dimensional square numpy array containing only integers\n",
    "    :param color:  the array of colors of each vertex in the DFS tree\n",
    "    :type color: array of intergers/strings        \n",
    "    :param parent:  the array of parent of each vertex in the DFS tree\n",
    "    :type parent: array of intergers  \n",
    "    :param date: round in the DFS traversal\n",
    "    :type date: integer\n",
    "    :param begin:  the array of times each vertex are seen for the first time in the traversal\n",
    "    :type begin: array of intergers\n",
    "    :param end:  the array of times each vertex are seen for the last time in the traversal\n",
    "    :type end: array of intergers       \n",
    "    :param u: current vertex\n",
    "    :type u: integer\n",
    "    ##\n",
    "    :return color:  the array of colors of each vertex in the DFS tree\n",
    "    :rtype color: array of intergers/strings  \n",
    "    :return:  array[color,parent,date,begin,end]\n",
    "    :return parent:  the array of parent of each vertex in the DFS tree\n",
    "    :rtype parent: array of intergers\n",
    "    :return date: round in the DFS traversal\n",
    "    :rtype date: integer    \n",
    "    :return begin:  the array of times each vertex are seen for the first time in the traversal\n",
    "    :rtype begin: array of intergers\n",
    "    :return end:  the array of times each vertex are seen for the last time in the traversal\n",
    "    :rtype end: array of intergers        \n",
    "    \"\"\"\n",
    "    color[u]= 0\n",
    "    date=date+1\n",
    "    begin[u]=date\n",
    "    for v in neighbours(A,u):\n",
    "        if color[v]==-1:\n",
    "        \n",
    "            parent[v]=u\n",
    "            T[u][v]=1\n",
    "            [color,T, parent, date,begin,end]=DFS_rec(A,color,T,parent,date,begin,end,v)\n",
    "    color[u]=1\n",
    "    end[u]=date\n",
    "    date=date+1\n",
    "    return [color,T,parent,date,begin,end]\n",
    "\n",
    "A=np.array([[0,1,0,0,0,0,0],[1,0,1,1,0,0,0],[0,1,0,0,1,0,0],[0,1,0,0,0,1,1],[0,0,1,0,0,0,0],[0,0,0,1,0,0,0],[0,0,0,1,0,0,0]])\n",
    "\n",
    "parent,T,begin,end = DFS(A)"
   ]
  },
  {
   "cell_type": "markdown",
   "metadata": {},
   "source": [
    "On colorie les arêtes de l'arboescence donnée par le DFS\n",
    "\n",
    "\n"
   ]
  },
  {
   "cell_type": "code",
   "execution_count": 5,
   "metadata": {},
   "outputs": [
    {
     "data": {
      "image/png": "[encoded data removed]",
      "text/plain": [
       "<Figure size 640x480 with 1 Axes>"
      ]
     },
     "metadata": {},
     "output_type": "display_data"
    }
   ],
   "source": [
    "\n",
    "\n",
    "#Exemple du CM2\n",
    "A=np.array([[0,1,0,0,0,0,0],[1,0,1,1,0,0,0],[0,1,0,0,1,0,0],[0,1,0,0,0,1,1],[0,0,1,0,0,0,0],[0,0,0,1,0,0,0],[0,0,0,1,0,0,0]])\n",
    "\n",
    "A=np.array([\n",
    "[0,0,0,0,0,0,0,1,0,0],\n",
    "[1,0,0,0,0,0,0,0,0,0],\n",
    "[0,1,0,0,0,0,0,0,0,0],\n",
    "[1,0,0,0,1,0,0,0,1,0],\n",
    "[1,1,0,0,0,0,0,0,0,0],\n",
    "[0,1,1,0,1,0,0,0,0,0],\n",
    "[0,0,1,0,0,1,0,0,0,0],\n",
    "[0,0,0,1,0,0,0,0,1,0],\n",
    "[0,0,0,0,0,0,0,0,0,1],\n",
    "[0,0,1,1,1,1,1,0,0,0]\n",
    "]\n",
    ")\n",
    "\n",
    "G=nx.from_numpy_array(A,create_using=nx.DiGraph())\n",
    "#noter le mot clef \"create_using\" qui permet de préciser que l'on travaille avec un graphe\n",
    "#orienté. Que se passe-t-il si on l'ommet ?\n",
    "\n",
    "parent,T,begin,end = DFS(A)\n",
    "\n",
    "pos=[\n",
    "[0,0],[6,0],[12,0],\n",
    "[2,-2],[4,-2],[8,-2],[10,-2],\n",
    "[0,-4],[6,-4],[12,-4],\n",
    "]\n",
    "#positions des sommets, détermination manuelle\n",
    "\n",
    "\n",
    "edges = G.edges()\n",
    "#Edges va permettre de prendre les arètes d'un graphique pour permettre de prendre\n",
    "#uniquement les arètes et pas les points seul à part.\n",
    "\n",
    "\n",
    "colors=[T[u[0]][u[1]] for u in edges]\n",
    "width=[1+T[u[0]][u[1]] for u in edges]\n",
    "#Que fait-on ici ?\n",
    "\n",
    "\n",
    "nx.draw(G, pos=pos,edge_color=colors,width=width,with_labels=True)\n",
    "    \n"
   ]
  },
  {
   "cell_type": "markdown",
   "metadata": {},
   "source": [
    "**Question 2**\n",
    "On défini la fonction Cloture transitive <tt>Closure</tt> qui prend une matrice d'adjacence en entrée et renvoie une matrice d'adjacence. Expliquer ce que fait cette fonction."
   ]
  },
  {
   "cell_type": "code",
   "execution_count": 6,
   "metadata": {},
   "outputs": [
    {
     "name": "stdout",
     "output_type": "stream",
     "text": [
      "[[0. 0. 0. 1. 0. 0. 0. 1. 0. 0.]\n",
      " [0. 0. 0. 0. 0. 0. 0. 0. 0. 0.]\n",
      " [0. 0. 0. 0. 0. 0. 0. 0. 0. 0.]\n",
      " [0. 1. 0. 0. 1. 0. 0. 0. 1. 1.]\n",
      " [0. 1. 0. 0. 0. 0. 0. 0. 0. 0.]\n",
      " [0. 0. 0. 0. 0. 0. 0. 0. 0. 0.]\n",
      " [0. 0. 0. 0. 0. 0. 0. 0. 0. 0.]\n",
      " [0. 0. 0. 1. 1. 0. 0. 0. 1. 0.]\n",
      " [0. 0. 1. 0. 0. 1. 1. 0. 0. 1.]\n",
      " [0. 0. 1. 0. 0. 1. 1. 0. 0. 0.]]\n",
      "[[0. 0. 0. 1. 1. 0. 0. 1. 1. 0.]\n",
      " [0. 0. 0. 0. 0. 0. 0. 0. 0. 0.]\n",
      " [0. 0. 0. 0. 0. 0. 0. 0. 0. 0.]\n",
      " [0. 1. 1. 0. 1. 1. 1. 0. 1. 1.]\n",
      " [0. 1. 0. 0. 0. 0. 0. 0. 0. 0.]\n",
      " [0. 0. 0. 0. 0. 0. 0. 0. 0. 0.]\n",
      " [0. 0. 0. 0. 0. 0. 0. 0. 0. 0.]\n",
      " [0. 1. 0. 1. 1. 0. 0. 0. 1. 1.]\n",
      " [0. 0. 1. 0. 0. 1. 1. 0. 0. 1.]\n",
      " [0. 0. 1. 0. 0. 1. 1. 0. 0. 0.]]\n",
      "[[0. 1. 0. 1. 1. 0. 0. 1. 1. 1.]\n",
      " [0. 0. 0. 0. 0. 0. 0. 0. 0. 0.]\n",
      " [0. 0. 0. 0. 0. 0. 0. 0. 0. 0.]\n",
      " [0. 1. 1. 0. 1. 1. 1. 0. 1. 1.]\n",
      " [0. 1. 0. 0. 0. 0. 0. 0. 0. 0.]\n",
      " [0. 0. 0. 0. 0. 0. 0. 0. 0. 0.]\n",
      " [0. 0. 0. 0. 0. 0. 0. 0. 0. 0.]\n",
      " [0. 1. 1. 1. 1. 1. 1. 0. 1. 1.]\n",
      " [0. 0. 1. 0. 0. 1. 1. 0. 0. 1.]\n",
      " [0. 0. 1. 0. 0. 1. 1. 0. 0. 0.]]\n",
      "[[0. 1. 1. 1. 1. 1. 1. 1. 1. 1.]\n",
      " [0. 0. 0. 0. 0. 0. 0. 0. 0. 0.]\n",
      " [0. 0. 0. 0. 0. 0. 0. 0. 0. 0.]\n",
      " [0. 1. 1. 0. 1. 1. 1. 0. 1. 1.]\n",
      " [0. 1. 0. 0. 0. 0. 0. 0. 0. 0.]\n",
      " [0. 0. 0. 0. 0. 0. 0. 0. 0. 0.]\n",
      " [0. 0. 0. 0. 0. 0. 0. 0. 0. 0.]\n",
      " [0. 1. 1. 1. 1. 1. 1. 0. 1. 1.]\n",
      " [0. 0. 1. 0. 0. 1. 1. 0. 0. 1.]\n",
      " [0. 0. 1. 0. 0. 1. 1. 0. 0. 0.]]\n",
      "[[0. 1. 1. 1. 1. 1. 1. 1. 1. 1.]\n",
      " [0. 0. 0. 0. 0. 0. 0. 0. 0. 0.]\n",
      " [0. 0. 0. 0. 0. 0. 0. 0. 0. 0.]\n",
      " [0. 1. 1. 0. 1. 1. 1. 0. 1. 1.]\n",
      " [0. 1. 0. 0. 0. 0. 0. 0. 0. 0.]\n",
      " [0. 0. 0. 0. 0. 0. 0. 0. 0. 0.]\n",
      " [0. 0. 0. 0. 0. 0. 0. 0. 0. 0.]\n",
      " [0. 1. 1. 1. 1. 1. 1. 0. 1. 1.]\n",
      " [0. 0. 1. 0. 0. 1. 1. 0. 0. 1.]\n",
      " [0. 0. 1. 0. 0. 1. 1. 0. 0. 0.]]\n",
      "[[0. 1. 1. 1. 1. 1. 1. 1. 1. 1.]\n",
      " [0. 0. 0. 0. 0. 0. 0. 0. 0. 0.]\n",
      " [0. 0. 0. 0. 0. 0. 0. 0. 0. 0.]\n",
      " [0. 1. 1. 0. 1. 1. 1. 0. 1. 1.]\n",
      " [0. 1. 0. 0. 0. 0. 0. 0. 0. 0.]\n",
      " [0. 0. 0. 0. 0. 0. 0. 0. 0. 0.]\n",
      " [0. 0. 0. 0. 0. 0. 0. 0. 0. 0.]\n",
      " [0. 1. 1. 1. 1. 1. 1. 0. 1. 1.]\n",
      " [0. 0. 1. 0. 0. 1. 1. 0. 0. 1.]\n",
      " [0. 0. 1. 0. 0. 1. 1. 0. 0. 0.]]\n",
      "[[0. 1. 1. 1. 1. 1. 1. 1. 1. 1.]\n",
      " [0. 0. 0. 0. 0. 0. 0. 0. 0. 0.]\n",
      " [0. 0. 0. 0. 0. 0. 0. 0. 0. 0.]\n",
      " [0. 1. 1. 0. 1. 1. 1. 0. 1. 1.]\n",
      " [0. 1. 0. 0. 0. 0. 0. 0. 0. 0.]\n",
      " [0. 0. 0. 0. 0. 0. 0. 0. 0. 0.]\n",
      " [0. 0. 0. 0. 0. 0. 0. 0. 0. 0.]\n",
      " [0. 1. 1. 1. 1. 1. 1. 0. 1. 1.]\n",
      " [0. 0. 1. 0. 0. 1. 1. 0. 0. 1.]\n",
      " [0. 0. 1. 0. 0. 1. 1. 0. 0. 0.]]\n",
      "[[0. 1. 1. 1. 1. 1. 1. 1. 1. 1.]\n",
      " [0. 0. 0. 0. 0. 0. 0. 0. 0. 0.]\n",
      " [0. 0. 0. 0. 0. 0. 0. 0. 0. 0.]\n",
      " [0. 1. 1. 0. 1. 1. 1. 0. 1. 1.]\n",
      " [0. 1. 0. 0. 0. 0. 0. 0. 0. 0.]\n",
      " [0. 0. 0. 0. 0. 0. 0. 0. 0. 0.]\n",
      " [0. 0. 0. 0. 0. 0. 0. 0. 0. 0.]\n",
      " [0. 1. 1. 1. 1. 1. 1. 0. 1. 1.]\n",
      " [0. 0. 1. 0. 0. 1. 1. 0. 0. 1.]\n",
      " [0. 0. 1. 0. 0. 1. 1. 0. 0. 0.]]\n",
      "[[0. 1. 1. 1. 1. 1. 1. 1. 1. 1.]\n",
      " [0. 0. 0. 0. 0. 0. 0. 0. 0. 0.]\n",
      " [0. 0. 0. 0. 0. 0. 0. 0. 0. 0.]\n",
      " [0. 1. 1. 0. 1. 1. 1. 0. 1. 1.]\n",
      " [0. 1. 0. 0. 0. 0. 0. 0. 0. 0.]\n",
      " [0. 0. 0. 0. 0. 0. 0. 0. 0. 0.]\n",
      " [0. 0. 0. 0. 0. 0. 0. 0. 0. 0.]\n",
      " [0. 1. 1. 1. 1. 1. 1. 0. 1. 1.]\n",
      " [0. 0. 1. 0. 0. 1. 1. 0. 0. 1.]\n",
      " [0. 0. 1. 0. 0. 1. 1. 0. 0. 0.]]\n"
     ]
    },
    {
     "data": {
      "image/png": "[encoded data removed]",
      "text/plain": [
       "<Figure size 640x480 with 1 Axes>"
      ]
     },
     "metadata": {},
     "output_type": "display_data"
    }
   ],
   "source": [
    "def Closure(A):\n",
    "    '''\n",
    "    Description de la fonction\n",
    "    \n",
    "\n",
    "    :param A: the adjacency matrix\n",
    "    :type A: a two dimensional square numpy array containing only integers\n",
    "    :return:  TODO\n",
    "    :rtype : numpy array of intergers    \n",
    "    \n",
    "    '''\n",
    "    n=A.shape[0]\n",
    "    C=A\n",
    "    J=np.ones((n,n))\n",
    "    for i in range(n-1):\n",
    "        C=C+C@A\n",
    "        C=np.minimum(C,J)\n",
    "        print(C)\n",
    "    return C\n",
    "\n",
    "\n",
    "GC=nx.from_numpy_array(Closure(T),create_using=nx.DiGraph())\n",
    "nx.draw(GC, pos=pos,with_labels=True)\n",
    "\n",
    "#Cette ajoute une arrete entre deux noeuds si un chemin existe entre eux\n",
    "#Ajoute le chemin des ancetres"
   ]
  },
  {
   "cell_type": "markdown",
   "metadata": {},
   "source": [
    "**Question 3** \n",
    "À l'aide de <tt>DFS</tt> et  <tt>Closure</tt>, écrire une fonction qui colorie les arêtes d'un graphe selon leur type (couvrant, direct, transverse, retour) \n",
    "\n",
    "_remarque :_ il pourrait être plus élégant de rajouter un champs \"couleur\" aux arêtes dans networkx. On ne le fera pas pour limiter la dépendance à cette librairie."
   ]
  },
  {
   "cell_type": "code",
   "execution_count": 8,
   "metadata": {},
   "outputs": [
    {
     "name": "stdout",
     "output_type": "stream",
     "text": [
      "[[0. 0. 0. 1. 0. 0. 0. 1. 0. 0.]\n",
      " [0. 0. 0. 0. 0. 0. 0. 0. 0. 0.]\n",
      " [0. 0. 0. 0. 0. 0. 0. 0. 0. 0.]\n",
      " [0. 1. 0. 0. 1. 0. 0. 0. 1. 1.]\n",
      " [0. 1. 0. 0. 0. 0. 0. 0. 0. 0.]\n",
      " [0. 0. 0. 0. 0. 0. 0. 0. 0. 0.]\n",
      " [0. 0. 0. 0. 0. 0. 0. 0. 0. 0.]\n",
      " [0. 0. 0. 1. 1. 0. 0. 0. 1. 0.]\n",
      " [0. 0. 1. 0. 0. 1. 1. 0. 0. 1.]\n",
      " [0. 0. 1. 0. 0. 1. 1. 0. 0. 0.]]\n",
      "[[0. 0. 0. 1. 1. 0. 0. 1. 1. 0.]\n",
      " [0. 0. 0. 0. 0. 0. 0. 0. 0. 0.]\n",
      " [0. 0. 0. 0. 0. 0. 0. 0. 0. 0.]\n",
      " [0. 1. 1. 0. 1. 1. 1. 0. 1. 1.]\n",
      " [0. 1. 0. 0. 0. 0. 0. 0. 0. 0.]\n",
      " [0. 0. 0. 0. 0. 0. 0. 0. 0. 0.]\n",
      " [0. 0. 0. 0. 0. 0. 0. 0. 0. 0.]\n",
      " [0. 1. 0. 1. 1. 0. 0. 0. 1. 1.]\n",
      " [0. 0. 1. 0. 0. 1. 1. 0. 0. 1.]\n",
      " [0. 0. 1. 0. 0. 1. 1. 0. 0. 0.]]\n",
      "[[0. 1. 0. 1. 1. 0. 0. 1. 1. 1.]\n",
      " [0. 0. 0. 0. 0. 0. 0. 0. 0. 0.]\n",
      " [0. 0. 0. 0. 0. 0. 0. 0. 0. 0.]\n",
      " [0. 1. 1. 0. 1. 1. 1. 0. 1. 1.]\n",
      " [0. 1. 0. 0. 0. 0. 0. 0. 0. 0.]\n",
      " [0. 0. 0. 0. 0. 0. 0. 0. 0. 0.]\n",
      " [0. 0. 0. 0. 0. 0. 0. 0. 0. 0.]\n",
      " [0. 1. 1. 1. 1. 1. 1. 0. 1. 1.]\n",
      " [0. 0. 1. 0. 0. 1. 1. 0. 0. 1.]\n",
      " [0. 0. 1. 0. 0. 1. 1. 0. 0. 0.]]\n",
      "[[0. 1. 1. 1. 1. 1. 1. 1. 1. 1.]\n",
      " [0. 0. 0. 0. 0. 0. 0. 0. 0. 0.]\n",
      " [0. 0. 0. 0. 0. 0. 0. 0. 0. 0.]\n",
      " [0. 1. 1. 0. 1. 1. 1. 0. 1. 1.]\n",
      " [0. 1. 0. 0. 0. 0. 0. 0. 0. 0.]\n",
      " [0. 0. 0. 0. 0. 0. 0. 0. 0. 0.]\n",
      " [0. 0. 0. 0. 0. 0. 0. 0. 0. 0.]\n",
      " [0. 1. 1. 1. 1. 1. 1. 0. 1. 1.]\n",
      " [0. 0. 1. 0. 0. 1. 1. 0. 0. 1.]\n",
      " [0. 0. 1. 0. 0. 1. 1. 0. 0. 0.]]\n",
      "[[0. 1. 1. 1. 1. 1. 1. 1. 1. 1.]\n",
      " [0. 0. 0. 0. 0. 0. 0. 0. 0. 0.]\n",
      " [0. 0. 0. 0. 0. 0. 0. 0. 0. 0.]\n",
      " [0. 1. 1. 0. 1. 1. 1. 0. 1. 1.]\n",
      " [0. 1. 0. 0. 0. 0. 0. 0. 0. 0.]\n",
      " [0. 0. 0. 0. 0. 0. 0. 0. 0. 0.]\n",
      " [0. 0. 0. 0. 0. 0. 0. 0. 0. 0.]\n",
      " [0. 1. 1. 1. 1. 1. 1. 0. 1. 1.]\n",
      " [0. 0. 1. 0. 0. 1. 1. 0. 0. 1.]\n",
      " [0. 0. 1. 0. 0. 1. 1. 0. 0. 0.]]\n",
      "[[0. 1. 1. 1. 1. 1. 1. 1. 1. 1.]\n",
      " [0. 0. 0. 0. 0. 0. 0. 0. 0. 0.]\n",
      " [0. 0. 0. 0. 0. 0. 0. 0. 0. 0.]\n",
      " [0. 1. 1. 0. 1. 1. 1. 0. 1. 1.]\n",
      " [0. 1. 0. 0. 0. 0. 0. 0. 0. 0.]\n",
      " [0. 0. 0. 0. 0. 0. 0. 0. 0. 0.]\n",
      " [0. 0. 0. 0. 0. 0. 0. 0. 0. 0.]\n",
      " [0. 1. 1. 1. 1. 1. 1. 0. 1. 1.]\n",
      " [0. 0. 1. 0. 0. 1. 1. 0. 0. 1.]\n",
      " [0. 0. 1. 0. 0. 1. 1. 0. 0. 0.]]\n",
      "[[0. 1. 1. 1. 1. 1. 1. 1. 1. 1.]\n",
      " [0. 0. 0. 0. 0. 0. 0. 0. 0. 0.]\n",
      " [0. 0. 0. 0. 0. 0. 0. 0. 0. 0.]\n",
      " [0. 1. 1. 0. 1. 1. 1. 0. 1. 1.]\n",
      " [0. 1. 0. 0. 0. 0. 0. 0. 0. 0.]\n",
      " [0. 0. 0. 0. 0. 0. 0. 0. 0. 0.]\n",
      " [0. 0. 0. 0. 0. 0. 0. 0. 0. 0.]\n",
      " [0. 1. 1. 1. 1. 1. 1. 0. 1. 1.]\n",
      " [0. 0. 1. 0. 0. 1. 1. 0. 0. 1.]\n",
      " [0. 0. 1. 0. 0. 1. 1. 0. 0. 0.]]\n",
      "[[0. 1. 1. 1. 1. 1. 1. 1. 1. 1.]\n",
      " [0. 0. 0. 0. 0. 0. 0. 0. 0. 0.]\n",
      " [0. 0. 0. 0. 0. 0. 0. 0. 0. 0.]\n",
      " [0. 1. 1. 0. 1. 1. 1. 0. 1. 1.]\n",
      " [0. 1. 0. 0. 0. 0. 0. 0. 0. 0.]\n",
      " [0. 0. 0. 0. 0. 0. 0. 0. 0. 0.]\n",
      " [0. 0. 0. 0. 0. 0. 0. 0. 0. 0.]\n",
      " [0. 1. 1. 1. 1. 1. 1. 0. 1. 1.]\n",
      " [0. 0. 1. 0. 0. 1. 1. 0. 0. 1.]\n",
      " [0. 0. 1. 0. 0. 1. 1. 0. 0. 0.]]\n",
      "[[0. 1. 1. 1. 1. 1. 1. 1. 1. 1.]\n",
      " [0. 0. 0. 0. 0. 0. 0. 0. 0. 0.]\n",
      " [0. 0. 0. 0. 0. 0. 0. 0. 0. 0.]\n",
      " [0. 1. 1. 0. 1. 1. 1. 0. 1. 1.]\n",
      " [0. 1. 0. 0. 0. 0. 0. 0. 0. 0.]\n",
      " [0. 0. 0. 0. 0. 0. 0. 0. 0. 0.]\n",
      " [0. 0. 0. 0. 0. 0. 0. 0. 0. 0.]\n",
      " [0. 1. 1. 1. 1. 1. 1. 0. 1. 1.]\n",
      " [0. 0. 1. 0. 0. 1. 1. 0. 0. 1.]\n",
      " [0. 0. 1. 0. 0. 1. 1. 0. 0. 0.]]\n"
     ]
    },
    {
     "data": {
      "image/png": "[encoded data removed]",
      "text/plain": [
       "<Figure size 640x480 with 1 Axes>"
      ]
     },
     "metadata": {},
     "output_type": "display_data"
    }
   ],
   "source": [
    "def Type(A):\n",
    "    '''\n",
    "   Donnes les arcs coloriés selon leurs types\n",
    "    :param A: the adjacency matrix\n",
    "    :type A: a two dimensional square numpy array containing only integers\n",
    "    :return: color an array of edge type\n",
    "    :rtype : numpy array of integers    \n",
    "    \n",
    "    '''\n",
    "    parent,T,begin,end = DFS(A)\n",
    "    C=Closure(T)\n",
    "    G=nx.from_numpy_array(A,create_using=nx.DiGraph())\n",
    "    edges = np.array(G.edges())\n",
    "    \n",
    "    color = np.zeros(len(edges))\n",
    "    \n",
    "    for i in range(len(edges)):\n",
    "        if()\n",
    "\n",
    "    return color\n",
    "\n",
    "\n",
    "color=Type(A)\n",
    "\n",
    "\n",
    "\n",
    "\n",
    "nx.draw(G,pos=pos,edge_color=color,with_labels=True)                \n"
   ]
  },
  {
   "cell_type": "markdown",
   "metadata": {},
   "source": [
    "*****\n",
    "**To Do:**\n",
    "\n",
    "\n",
    "**_question 4_**\n",
    "\n",
    "Déterminer si un graphe orienté est un DAG\n",
    "\n",
    "_bonus_ dans le cas contraire, donner les cycles\n"
   ]
  },
  {
   "cell_type": "code",
   "execution_count": 12,
   "metadata": {},
   "outputs": [
    {
     "data": {
      "text/plain": [
       "False"
      ]
     },
     "execution_count": 12,
     "metadata": {},
     "output_type": "execute_result"
    }
   ],
   "source": [
    "def isDAG(A):\n",
    "    \"\"\"\n",
    "    returns True if A is a DAG, False otherwise  \n",
    "    \"\"\"\n",
    "    \n",
    "    return False\n",
    "    \n",
    "isDAG(A)"
   ]
  },
  {
   "cell_type": "markdown",
   "metadata": {},
   "source": [
    "\n",
    "**Bonus** Écrire une fonction qui élimine d'un graphe orienté les arêtes retrogrades (ce qui permet d'obtenir un DAG)"
   ]
  },
  {
   "cell_type": "code",
   "execution_count": 14,
   "metadata": {},
   "outputs": [
    {
     "name": "stdout",
     "output_type": "stream",
     "text": [
      "[[0 0 0 0 0 0 0 1 0 0]\n",
      " [1 0 0 0 0 0 0 0 0 0]\n",
      " [0 1 0 0 0 0 0 0 0 0]\n",
      " [1 0 0 0 1 0 0 0 1 0]\n",
      " [1 1 0 0 0 0 0 0 0 0]\n",
      " [0 1 1 0 1 0 0 0 0 0]\n",
      " [0 0 1 0 0 1 0 0 0 0]\n",
      " [0 0 0 1 0 0 0 0 1 0]\n",
      " [0 0 0 0 0 0 0 0 0 1]\n",
      " [0 0 1 1 1 1 1 0 0 0]]\n"
     ]
    },
    {
     "data": {
      "image/png": "[encoded data removed]",
      "text/plain": [
       "<Figure size 432x288 with 1 Axes>"
      ]
     },
     "metadata": {},
     "output_type": "display_data"
    }
   ],
   "source": [
    "def ToDAG(A):\n",
    "    '''\n",
    "    Supprime les arêtes retour d'un graphe orienté\n",
    "    \n",
    "\n",
    "    :param A: the adjacency matrix\n",
    "    :type A: a two dimensional square numpy array containing only integers\n",
    "    :return: the adjacency matrix of a DAG based on A\n",
    "    :rtype : a two dimensional square numpy array containing only integers   \n",
    "    \n",
    "    '''    \n",
    "\n",
    "    D=A\n",
    "\n",
    "    '''\n",
    "    TODO\n",
    "    '''\n",
    "    return D\n",
    "\n",
    "D=ToDAG(A)\n",
    "GD=nx.from_numpy_array(D,create_using=nx.DiGraph())\n",
    "nx.draw(GD,pos=pos,with_labels=True) \n",
    "\n",
    "\n",
    "print(D)"
   ]
  },
  {
   "cell_type": "markdown",
   "metadata": {},
   "source": [
    "*****\n",
    "on se donne la matrice d'adjacence d'un DAG"
   ]
  },
  {
   "cell_type": "code",
   "execution_count": 15,
   "metadata": {},
   "outputs": [
    {
     "data": {
      "text/plain": [
       "False"
      ]
     },
     "execution_count": 15,
     "metadata": {},
     "output_type": "execute_result"
    }
   ],
   "source": [
    "D=np.array([[0, 0, 1, 0, 0, 0, 0, 0, 0, 0]\n",
    ", [0, 0, 0, 0, 0, 0, 0, 0, 0, 0]\n",
    ", [0, 1, 0, 0, 0, 0, 0, 0, 0, 0]\n",
    ", [0, 0, 0, 0, 1, 0, 0, 0, 1, 1]\n",
    ", [0, 1, 0, 0, 0, 0, 0, 0, 0, 0]\n",
    ", [0, 1, 1, 0, 1, 0, 0, 0, 0, 0]\n",
    ", [0, 0, 1, 0, 0, 1, 0, 0, 0, 0]\n",
    ", [0, 0, 0, 1, 0, 0, 0, 0, 1, 0]\n",
    ", [0, 0, 0, 0, 0, 0, 0, 0, 0, 0]\n",
    ", [0, 0, 1, 0, 1, 1, 1, 0, 0, 0]])\n",
    "\n",
    "isDAG(D)"
   ]
  },
  {
   "cell_type": "markdown",
   "metadata": {},
   "source": [
    "**_question 5_**\n",
    "\n",
    "Écrire une fonction effectuant le tri par niveau d'un DAG"
   ]
  },
  {
   "cell_type": "code",
   "execution_count": 16,
   "metadata": {},
   "outputs": [
    {
     "name": "stdout",
     "output_type": "stream",
     "text": [
      "[-1 -1 -1 -1 -1 -1 -1 -1 -1 -1]\n"
     ]
    },
    {
     "data": {
      "image/png": "[encoded data removed]",
      "text/plain": [
       "<Figure size 432x288 with 1 Axes>"
      ]
     },
     "metadata": {},
     "output_type": "display_data"
    }
   ],
   "source": [
    "def TriNiveau(D):\n",
    "    '''\n",
    "    (recursive) Level sort of a DAG\n",
    "    \n",
    "    [main function]    \n",
    "\n",
    "    :param D: the adjacency matrix\n",
    "    :type D: a two dimensional square numpy array containing only integers\n",
    "    :return: level of each vertex, proposed positionning\n",
    "    :rtype : a  numpy array containing only integers, numpya array of coordinates \n",
    "    \n",
    "    '''     \n",
    "    order,size,degp,degm=infoOriente(D)\n",
    "    N=-1*np.ones(order,int)\n",
    "    pos=-1*np.ones((order,2))\n",
    "    [NN,ppos]=TriNiveaurec(D,degm,N,0,pos)\n",
    "   \n",
    "    return NN,ppos\n",
    "\n",
    "\n",
    "def TriNiveaurec(D,deg,N,level,pos):\n",
    "    '''\n",
    "    (recursive) Level sort of a DAG\n",
    "    \n",
    "    [auxilliary function, actual algoritm]    \n",
    "\n",
    "    :param D: the adjacency matrix\n",
    "    :type D: a two dimensional square numpy array containing only integers\n",
    "    :param deg: degrees\n",
    "    :type deg: np array of int\n",
    "    :param N: levels\n",
    "    :type N: np array of int \n",
    "    :param level: current level\n",
    "    :type level: int  \n",
    "    :param pos: coordinates\n",
    "    :type N: np array of coordinates    \n",
    "    :return: level of each vertex, proposed positionning\n",
    "    :rtype : a  numpy array containing only integers, numpya array of coordinates \n",
    "    \n",
    "    '''    \n",
    "    \n",
    "    \n",
    "    '''\n",
    "    TODO\n",
    "    '''\n",
    "    return [N,pos]\n",
    " \n",
    "[N,posTop] = TriNiveau(D)\n",
    "print(N)\n",
    "GD=nx.from_numpy_array(D,create_using=nx.DiGraph())\n",
    "nx.draw(GD,pos=posTop,with_labels=True)    \n",
    "   "
   ]
  },
  {
   "cell_type": "markdown",
   "metadata": {},
   "source": [
    "**Bonus** Adapter l'affichage au tri par niveau"
   ]
  },
  {
   "cell_type": "code",
   "execution_count": null,
   "metadata": {},
   "outputs": [],
   "source": []
  },
  {
   "cell_type": "code",
   "execution_count": null,
   "metadata": {},
   "outputs": [],
   "source": []
  }
 ],
 "metadata": {
  "kernelspec": {
   "display_name": "Python 3",
   "language": "python",
   "name": "python3"
  },
  "language_info": {
   "codemirror_mode": {
    "name": "ipython",
    "version": 3
   },
   "file_extension": ".py",
   "mimetype": "text/x-python",
   "name": "python",
   "nbconvert_exporter": "python",
   "pygments_lexer": "ipython3",
   "version": "3.11.9"
  }
 },
 "nbformat": 4,
 "nbformat_minor": 4
}
