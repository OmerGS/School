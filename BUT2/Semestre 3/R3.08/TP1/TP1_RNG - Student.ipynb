{
 "cells": [
  {
   "cell_type": "markdown",
   "metadata": {},
   "source": [
    "# <center>R3.08 - Probabilités <br>TP1 - Random number generators (RNG)<center>\n",
    "\n",
    "\n",
    "_Tom Ferragut, Thibault Godin_\n",
    "\n",
    "_IUT de Vannes, BUT Informatique_"
   ]
  },
  {
   "cell_type": "code",
   "execution_count": 2,
   "metadata": {},
   "outputs": [],
   "source": [
    "import random\n",
    "\n",
    "import numpy as np\n",
    "\n",
    "# This is how we import the module of Matplotlib we'll be using\n",
    "import matplotlib.pyplot as plt\n",
    "\n",
    "# Some pretty Seaborn settings\n",
    "#import seaborn as sns\n",
    "#rc={'lines.linewidth': 2, 'axes.labelsize': 18, 'axes.titlesize': 18}\n",
    "#sns.set(rc=rc)"
   ]
  },
  {
   "cell_type": "markdown",
   "metadata": {},
   "source": [
    "## 1 - Introduction "
   ]
  },
  {
   "cell_type": "markdown",
   "metadata": {},
   "source": [
    "**La génération de nombres pseudo-aléatoires** (Random number generation, ou RNG) est le processus par lequel une chaîne de nombres aléatoires peut être tirée au sort. Bien entendu, les nombres ne sont pas complètement aléatoires pour plusieurs raisons.\n",
    "\n",
    "1. Ils sont tirés à partir distribution de probabilité. La plus courante est la distribution uniforme sur $[0 ;1[$, c'est-à-dire les nombres aléatoires compris entre zéro et un.\n",
    "2. Dans la plupart des applications informatiques, y compris celles que nous utiliserons au cours de l'atelier, les nombres aléatoires sont en fait pseudo-aléatoires.  Ils dépendent entièrement d'une **graine** d'entrée et sont ensuite générés par un algorithme déterministe à partir de cette graine.\n",
    "\n",
    "La plupart des fonctionnalités de génération de nombres aléatoires dont vous aurez besoin se trouvent dans le module `np.random`.  Commençons par générer des nombres aléatoires sur un intervalle uniforme"
   ]
  },
  {
   "cell_type": "code",
   "execution_count": 3,
   "metadata": {},
   "outputs": [
    {
     "data": {
      "text/plain": [
       "array([0.89530104, 0.42707568, 0.40432579, 0.22311277, 0.07414787,\n",
       "       0.36342317, 0.96422124, 0.85537737, 0.81922903, 0.79472334])"
      ]
     },
     "execution_count": 3,
     "metadata": {},
     "output_type": "execute_result"
    }
   ],
   "source": [
    "np.random.random(size=10)"
   ]
  },
  {
   "cell_type": "markdown",
   "metadata": {},
   "source": [
    "La fonction `random()` du module `np.random` génère des nombres aléatoires sur l'intervalle $[0,1)$.  Le paramètre `size` représente combien de nombres aléatoires vous souhaitez générer. Nous pouvons vérifier qu'il tire correctement des nombres aléatoires en triant ces tirages et en les affichant."
   ]
  },
  {
   "cell_type": "code",
   "execution_count": 3,
   "metadata": {},
   "outputs": [
    {
     "data": {
      "text/plain": [
       "[<matplotlib.lines.Line2D at 0x779018f67530>]"
      ]
     },
     "execution_count": 3,
     "metadata": {},
     "output_type": "execute_result"
    },
    {
     "data": {
      "image/png": "[encoded data removed]",
      "text/plain": [
       "<Figure size 640x480 with 1 Axes>"
      ]
     },
     "metadata": {},
     "output_type": "display_data"
    }
   ],
   "source": [
    "# Generate sorted random numbers\n",
    "x = np.sort(np.random.random(size=100))\n",
    "\n",
    "# Generate y-axis \n",
    "y = np.arange(1, len(x)+1) / len(x)\n",
    "\n",
    "# Plot CDF from random numbers (for plotting purposes, only plot 100 points)\n",
    "plt.plot(x, y, marker='.', markersize=10)\n",
    "\n",
    "# Plot expected CDF (just a straight line from (0,0) to (1,1)\n",
    "plt.plot([0, 1], [0, 1])"
   ]
  },
  {
   "cell_type": "markdown",
   "metadata": {},
   "source": [
    ">__Question 1 :__ Que ce passe t'il si vous faites varier le paramètre `size` ?\n"
   ]
  },
  {
   "cell_type": "markdown",
   "metadata": {},
   "source": [
    "La génération de nombres aléatoires sur l'intervalle uniforme est l'une des techniques de génération de nombres aléatoires les plus couramment utilisées. Beaucoup d'autres génrérations aléatoires sont dérivés de ses tirages sur la distribution uniforme.  \n",
    "Par exemple, vous pouvez simuler un tirage à « tirages à pile ou face », c'est-à-dire des tirages aléatoires qui sont soit zéro, soit un.\n",
    "\n",
    ">__Question 2 :__ Écrire une fonction `Pile_ou_Face` qui a une chance sur deux de renvoyer 'Pile' ou 'Face'."
   ]
  },
  {
   "cell_type": "code",
   "execution_count": 5,
   "metadata": {},
   "outputs": [],
   "source": [
    "def Pile_ou_Face() :\n",
    "    nbRandom = np.random.random()\n",
    "    if nbRandom > 0.5:\n",
    "        print(\"Pile\")\n",
    "    else:\n",
    "        print(\"Face\")"
   ]
  },
  {
   "cell_type": "code",
   "execution_count": 6,
   "metadata": {},
   "outputs": [
    {
     "name": "stdout",
     "output_type": "stream",
     "text": [
      "Face\n",
      "Pile\n",
      "Face\n",
      "Face\n",
      "Face\n",
      "Face\n",
      "Face\n",
      "Face\n",
      "Face\n",
      "Pile\n",
      "[None, None, None, None, None, None, None, None, None, None]\n"
     ]
    }
   ],
   "source": [
    "# Generate une liste de n lancées de Pile ou Face\n",
    "n=10\n",
    "liste_lancees = [Pile_ou_Face() for _ in range(n)]\n",
    "print(liste_lancees)\n",
    "\n",
    "# Show which were heads, and count the number of heads\n"
   ]
  },
  {
   "cell_type": "markdown",
   "metadata": {},
   "source": [
    "### Graines de générateurs de nombres pseudo-aléatoires (*seed* en anglais)\n",
    "\n",
    "Pour démontrer que la génération de nombres aléatoires est déterministe, nous allons explicitement choisir un graîne pour la génération (grâce à la fonction `np.random.seed`) afin de montrer que nous obtenons le même aléa."
   ]
  },
  {
   "cell_type": "code",
   "execution_count": 33,
   "metadata": {},
   "outputs": [
    {
     "data": {
      "text/plain": [
       "array([0.37454012, 0.95071431, 0.73199394, 0.59865848, 0.15601864,\n",
       "       0.15599452, 0.05808361, 0.86617615, 0.60111501, 0.70807258])"
      ]
     },
     "execution_count": 33,
     "metadata": {},
     "output_type": "execute_result"
    }
   ],
   "source": [
    "# Seed the RNG\n",
    "np.random.seed(42)\n",
    "\n",
    "# Generate random numbers\n",
    "np.random.random(size=10)"
   ]
  },
  {
   "cell_type": "code",
   "execution_count": 7,
   "metadata": {},
   "outputs": [
    {
     "data": {
      "text/plain": [
       "array([0.37454012, 0.95071431, 0.73199394, 0.59865848, 0.15601864,\n",
       "       0.15599452, 0.05808361, 0.86617615, 0.60111501, 0.70807258])"
      ]
     },
     "execution_count": 7,
     "metadata": {},
     "output_type": "execute_result"
    }
   ],
   "source": [
    "# Re-seed the RNG\n",
    "np.random.seed(42)\n",
    "\n",
    "# Generate random numbers\n",
    "np.random.random(size=10)"
   ]
  },
  {
   "cell_type": "markdown",
   "metadata": {},
   "source": [
    "Les nombres aléatoires sont exactement les mêmes.  Si nous choisissons une graine différente, nous obtenons des nombres aléatoires totalement différents."
   ]
  },
  {
   "cell_type": "code",
   "execution_count": 101,
   "metadata": {},
   "outputs": [
    {
     "data": {
      "text/plain": [
       "array([0.98901151, 0.54954473, 0.2814473 , 0.07728957, 0.4444695 ,\n",
       "       0.47280797, 0.048522  , 0.16332445, 0.11595071, 0.62739168])"
      ]
     },
     "execution_count": 101,
     "metadata": {},
     "output_type": "execute_result"
    }
   ],
   "source": [
    "# Seed with a number that is close to the answer to everything\n",
    "np.random.seed(45)\n",
    "np.random.random(size=10)"
   ]
  },
  {
   "cell_type": "markdown",
   "metadata": {},
   "source": [
    "Il est souvent utile de générer des nombres aléatoire grâce à des graines d'obtenir des résultats reproductibles :\n",
    "- Pour des expériences scientifiques voulant être vérifier\n",
    "- Pour jouer sur la même map Minecraft qu'un streamer etc..."
   ]
  },
  {
   "cell_type": "markdown",
   "metadata": {},
   "source": [
    "## 2 - Sélections à partir de distributions discrètes\n",
    "### 2.1 - Les entiers aléatoires\n",
    "\n",
    "Les nombres aléatoires que nous avons générés jusqu'à présent proviennent de la distribution continue uniforme (plus de détails sur les distributions continues en troisième semaine).  Nous pouvons également tirer des nombres aléatoires à partir de distributions discrètes, l'exemple le plus courant est sans doute le choix d'un nombre entier aléatoire dans un ensemble de nombres entiers.  Par exemple, si nous voulons tirer un des quatre entiers dans `{0, 1, 2, 3}`, nous pouvons utiliser la fonction `np.random.randint()`."
   ]
  },
  {
   "cell_type": "code",
   "execution_count": 44,
   "metadata": {},
   "outputs": [
    {
     "data": {
      "text/plain": [
       "array([0, 3, 2, 1, 3, 2, 1, 2, 0, 0, 0, 2, 3, 1, 3, 0, 3, 3, 1, 3])"
      ]
     },
     "execution_count": 44,
     "metadata": {},
     "output_type": "execute_result"
    }
   ],
   "source": [
    "# Draw random integers on [0, 4), i.e., exclusive of last one.\n",
    "np.random.randint(0, 4, 20)"
   ]
  },
  {
   "cell_type": "markdown",
   "metadata": {},
   "source": [
    "Grâce à cela nous pouvons simuler des lancées de dés, ou encore générer des séquences d'ADN aléatoires."
   ]
  },
  {
   "cell_type": "code",
   "execution_count": 49,
   "metadata": {},
   "outputs": [
    {
     "data": {
      "text/plain": [
       "'CTTATGTTTACGTATTTTATCTGACGTGCACTGCCCGTATATTATTCCAG'"
      ]
     },
     "execution_count": 49,
     "metadata": {},
     "output_type": "execute_result"
    }
   ],
   "source": [
    "# Key of bases\n",
    "bases = 'ATGC'\n",
    "\n",
    "# Draw random numbers for sequence\n",
    "x = np.random.randint(0, 4, 50)\n",
    "\n",
    "# Make sequence\n",
    "seq_list = [bases[x[i]] for i in range(len(x))]\n",
    "\n",
    "# Join the sequence\n",
    "''.join(seq_list)"
   ]
  },
  {
   "cell_type": "markdown",
   "metadata": {},
   "source": [
    "__Question 3 :__ Quelle est la probabilité d'obtenir un double en lançant 2 dés à 6 faces ?\n",
    "Retrouver expérimentalement ce résultat en modélisant `6000` double lancés de dés et en comptant le nombre de double."
   ]
  },
  {
   "cell_type": "markdown",
   "metadata": {},
   "source": [
    "Bien qu'il ait beaucoup moins de fonctionnalités que `np.random`, le module `random` de la bibliothèque standard a quelques fonctionnalités utiles.  En particulier, la méthode `random.choice()` peut prendre une chaîne en entrée et choisir des caractères dans cette chaîne.  Par exemple, pour générer des séquences d'ADN aléatoires, nous pourrions simplement faire ce qui suit."
   ]
  },
  {
   "cell_type": "code",
   "execution_count": 53,
   "metadata": {},
   "outputs": [
    {
     "data": {
      "text/plain": [
       "'CAGGTTGCATGAGAGCAAACAAGGTCCGCGGGACGGCCACGGGTTAGTGG'"
      ]
     },
     "execution_count": 53,
     "metadata": {},
     "output_type": "execute_result"
    }
   ],
   "source": [
    "import random\n",
    "\n",
    "# Make sequence\n",
    "seq_list = [random.choice('ATGC') for _ in range(50)]\n",
    "    \n",
    "# Join the sequence\n",
    "''.join(seq_list)"
   ]
  },
  {
   "cell_type": "markdown",
   "metadata": {},
   "source": [
    "### 2.2 - Choisir des éléments dans une liste, un tableau\n",
    "\n",
    "Il est souvent utile de choisir au hasard des éléments dans un tableau existant et c'est exactement le rôle de la fonction `np.random.choice()`.  Vous pouvez également utiliser `np.random.randint()`, où les entiers représentent les indices dans le tableau, *cependant* `np.random.choice()` possède le paramètre `replace`, qui permet de faire des tirages aléatoires avec ou sans remplacement.  "
   ]
  },
  {
   "cell_type": "markdown",
   "metadata": {},
   "source": [
    "__Question 4 :__ On considère une urne contenant 6 boules blanches et 3 boules rouges, indiscernables au toucher. On tire, successivement et avec remise, 5 boules. \n",
    "1) Calculer la probabilité d’obtenir, dans cet ordre, 3 blanches et 2 rouges.\n",
    "2) Retrouver expérimentalement ce résultat grâce à la version numérique de cette urne : Urne = ['B','B','B','B','B','B','R','R','R']"
   ]
  },
  {
   "cell_type": "code",
   "execution_count": 135,
   "metadata": {},
   "outputs": [
    {
     "name": "stdout",
     "output_type": "stream",
     "text": [
      "Probabilité expérimentale d'obtenir BBBRR : 0.0330115\n"
     ]
    }
   ],
   "source": [
    "# Initialisation de l'urne\n",
    "urne = ['B', 'B', 'B', 'B', 'B', 'B', 'R', 'R', 'R']\n",
    "\n",
    "# Nombre d'essais (augmenter pour plus de précision)\n",
    "n_essais = 2000000\n",
    "\n",
    "# Variable pour compter les succès (tirage BBBRR)\n",
    "compteur_succes = 0\n",
    "\n",
    "# Simulation\n",
    "for _ in range(n_essais):\n",
    "    tirage = np.random.choice(urne, 5, replace=True)  # Tirer 5 boules avec remise\n",
    "    if np.array_equal(tirage, ['B', 'B', 'B', 'R', 'R']):  # Vérifier si le tirage est BBBRR\n",
    "        compteur_succes += 1\n",
    "\n",
    "# Calcul de la probabilité expérimentale\n",
    "probabilite_experimentale = compteur_succes / n_essais\n",
    "\n",
    "print(f\"Probabilité expérimentale d'obtenir BBBRR : {probabilite_experimentale}\")\n",
    "\n",
    "#Avec 2 millions d'essai, on obtient : 0.0330115 de probabilité d'avoir le tirage ['B', 'B', 'B', 'R', 'R']\n"
   ]
  },
  {
   "cell_type": "markdown",
   "metadata": {},
   "source": [
    "*Réponse*\n",
    "\n",
    "    1) \n",
    "    2) 0.0330115 de probabilité"
   ]
  },
  {
   "cell_type": "markdown",
   "metadata": {},
   "source": [
    "__Remarque :__ la fonction `np.random.permutation()` peut également être utile, elle permet de mélanger les éléments d'un tableau."
   ]
  },
  {
   "cell_type": "markdown",
   "metadata": {},
   "source": [
    "## 3 - Simulateur de Blackjack"
   ]
  },
  {
   "cell_type": "markdown",
   "metadata": {},
   "source": [
    "Dans cette partie nous allons tenter de simuler une partie de Blackjack (ou au moins les premier tour).\n",
    "Pour cela, voici un résumé des règles de ce jeu de cartes :\n",
    "\n",
    "__Objectif du Jeu__\n",
    "\n",
    "Le but du blackjack est d’obtenir une main dont la valeur est la plus proche possible de 21 __sans dépasser ce total__. Vous jouez contre le croupier, et non contre les autres joueurs.\n",
    "Valeur des Cartes\n",
    "\n",
    "    Cartes numérotées (2 à 10) : leur valeur est égale à leur numéro.\n",
    "    Figures (Valet, Dame, Roi) : chacune vaut 10 points.\n",
    "    As : peut valoir 1 ou 11 points, selon ce qui est le plus avantageux pour la main sans dépasser 21.\n",
    "\n",
    "__Distribution des Cartes__\n",
    "\n",
    "    Chaque joueur et le croupier reçoivent deux cartes."
   ]
  },
  {
   "cell_type": "markdown",
   "metadata": {},
   "source": [
    "À partir du fichier **liste_des_52_cartes** nous obtenons une liste appelée `paquet_de_carte` contenant les 52 cartes en format string."
   ]
  },
  {
   "cell_type": "code",
   "execution_count": 82,
   "metadata": {},
   "outputs": [
    {
     "name": "stdout",
     "output_type": "stream",
     "text": [
      "['2 de Trefle', '3 de Trefle', '4 de Trefle', '5 de Trefle', '6 de Trefle', '7 de Trefle', '8 de Trefle', '9 de Trefle', '10 de Trefle', 'Valet de Trefle', 'Dame de Trefle', 'Roi de Trefle', 'As de Trefle', '2 de Carreau', '3 de Carreau', '4 de Carreau', '5 de Carreau', '6 de Carreau', '7 de Carreau', '8 de Carreau', '9 de Carreau', '10 de Carreau', 'Valet de Carreau', 'Dame de Carreau', 'Roi de Carreau', 'As de Carreau', '2 de Coeur', '3 de Coeur', '4 de Coeur', '5 de Coeur', '6 de Coeur', '7 de Coeur', '8 de Coeur', '9 de Coeur', '10 de Coeur', 'Valet de Coeur', 'Dame de Coeur', 'Roi de Coeur', 'As de Coeur', '2 de Pique', '3 de Pique', '4 de Pique', '5 de Pique', '6 de Pique', '7 de Pique', '8 de Pique', '9 de Pique', '10 de Pique', 'Valet de Pique', 'Dame de Pique', 'Roi de Pique', 'As de Pique\\n']\n"
     ]
    }
   ],
   "source": [
    "# Lecture du fichier pour récupérer les cartes\n",
    "with open('liste_des_52_cartes.txt', 'r') as fichier:\n",
    "    contenu = fichier.read()\n",
    "    nouveau_paquet_de_cartes = contenu.split(';')\n",
    "\n",
    "# Vérification du paquet de cartes\n",
    "print(nouveau_paquet_de_cartes)\n"
   ]
  },
  {
   "cell_type": "markdown",
   "metadata": {},
   "source": [
    ">__Question 5 :__ Écrire une fonction `pioche` qui prend en entrée un paquet de carte, qui en enlève une et la renvoie."
   ]
  },
  {
   "cell_type": "code",
   "execution_count": 78,
   "metadata": {},
   "outputs": [
    {
     "name": "stdout",
     "output_type": "stream",
     "text": [
      "Carte piochée: Valet de Pique\n",
      "Nombre de cartes restantes dans le paquet: 50\n"
     ]
    },
    {
     "data": {
      "text/plain": [
       "array(['Valet de Pique'], dtype='<U16')"
      ]
     },
     "execution_count": 78,
     "metadata": {},
     "output_type": "execute_result"
    }
   ],
   "source": [
    "def pioche(paquet):\n",
    "\n",
    "    carte_piochee = np.random.choice(paquet, 1, replace=False)\n",
    "    paquet.remove(carte_piochee)\n",
    "\n",
    "    print(f\"Carte piochée: {carte_piochee[0]}\")\n",
    "    \n",
    "    print(f\"Nombre de cartes restantes dans le paquet: {len(paquet)}\")\n",
    "    \n",
    "    return(carte_piochee)\n",
    "\n",
    "pioche(nouveau_paquet_de_cartes)\n"
   ]
  },
  {
   "cell_type": "markdown",
   "metadata": {},
   "source": [
    ">__Question 6 :__ Générer une fonction tirant un premier tour des cartes du Blackjack en fonction du nombre de joueurs."
   ]
  },
  {
   "cell_type": "code",
   "execution_count": 114,
   "metadata": {},
   "outputs": [
    {
     "name": "stdout",
     "output_type": "stream",
     "text": [
      "Carte piochée: Roi de Pique\n",
      "Nombre de cartes restantes dans le paquet: 51\n",
      "Carte piochée: 2 de Trefle\n",
      "Nombre de cartes restantes dans le paquet: 50\n",
      "Main des joueurs après le premier tour: [array(['Roi de Pique'], dtype='<U16'), array(['2 de Trefle'], dtype='<U16')]\n"
     ]
    }
   ],
   "source": [
    "def premier_tour_blackjack(paquet_de_carte, nombre_de_joueurs):\n",
    "    main_joueurs = []\n",
    "\n",
    "    for _ in range(nombre_de_joueurs):\n",
    "        for __ in range(2):\n",
    "            main_joueurs.append(pioche(paquet_de_carte))\n",
    "\n",
    "    return main_joueurs\n",
    "\n",
    "#Exemple d'utilisation :\n",
    "nombre_de_joueurs = 1\n",
    "paquet_de_carte=nouveau_paquet_de_cartes.copy()\n",
    "main_joueurs = premier_tour_blackjack(paquet_de_carte, nombre_de_joueurs)\n",
    "print(\"Main des joueurs après le premier tour:\", main_joueurs)\n"
   ]
  },
  {
   "cell_type": "markdown",
   "metadata": {},
   "source": [
    ">__Question 7 :__ Ecrire une fonction qui donne la valeur entre 1 et 21 d'une liste de carte de Blackjack"
   ]
  },
  {
   "cell_type": "code",
   "execution_count": 116,
   "metadata": {},
   "outputs": [],
   "source": [
    "def valeur_blackjack(main):\n",
    "    \n",
    "    return valeur_totale\n",
    "\n",
    "# Exemple d'utilisation :\n",
    "# main = ['As de Trèfle', '10 de Carreau']\n",
    "# print(\"Valeur de la main:\", valeur_blackjack(main))  # Sortie attendue : 21\n"
   ]
  },
  {
   "cell_type": "code",
   "execution_count": 117,
   "metadata": {},
   "outputs": [
    {
     "data": {
      "text/plain": [
       "array(['2 de Trefle'], dtype='<U16')"
      ]
     },
     "execution_count": 117,
     "metadata": {},
     "output_type": "execute_result"
    }
   ],
   "source": [
    "main_joueurs[1]"
   ]
  },
  {
   "cell_type": "code",
   "execution_count": 118,
   "metadata": {},
   "outputs": [
    {
     "ename": "NameError",
     "evalue": "name 'valeur_totale' is not defined",
     "output_type": "error",
     "traceback": [
      "\u001b[0;31m---------------------------------------------------------------------------\u001b[0m",
      "\u001b[0;31mNameError\u001b[0m                                 Traceback (most recent call last)",
      "Cell \u001b[0;32mIn[118], line 1\u001b[0m\n\u001b[0;32m----> 1\u001b[0m \u001b[38;5;28mprint\u001b[39m(\u001b[43mvaleur_blackjack\u001b[49m\u001b[43m(\u001b[49m\u001b[43mmain_joueurs\u001b[49m\u001b[43m[\u001b[49m\u001b[38;5;241;43m1\u001b[39;49m\u001b[43m]\u001b[49m\u001b[43m)\u001b[49m)\n\u001b[1;32m      2\u001b[0m \u001b[38;5;28mprint\u001b[39m(valeur_blackjack([\u001b[38;5;124m'\u001b[39m\u001b[38;5;124m10 de Trèfle\u001b[39m\u001b[38;5;124m'\u001b[39m, \u001b[38;5;124m'\u001b[39m\u001b[38;5;124m7 de Pique\u001b[39m\u001b[38;5;124m'\u001b[39m,\u001b[38;5;124m'\u001b[39m\u001b[38;5;124mAs de Pique\u001b[39m\u001b[38;5;124m'\u001b[39m]))\n",
      "Cell \u001b[0;32mIn[116], line 4\u001b[0m, in \u001b[0;36mvaleur_blackjack\u001b[0;34m(main)\u001b[0m\n\u001b[1;32m      1\u001b[0m \u001b[38;5;28;01mdef\u001b[39;00m \u001b[38;5;21mvaleur_blackjack\u001b[39m(main):\n\u001b[0;32m----> 4\u001b[0m     \u001b[38;5;28;01mreturn\u001b[39;00m \u001b[43mvaleur_totale\u001b[49m\n",
      "\u001b[0;31mNameError\u001b[0m: name 'valeur_totale' is not defined"
     ]
    }
   ],
   "source": [
    "print(valeur_blackjack(main_joueurs[1]))\n",
    "print(valeur_blackjack(['10 de Trèfle', '7 de Pique','As de Pique']))"
   ]
  },
  {
   "cell_type": "markdown",
   "metadata": {},
   "source": [
    ">__Question 8 :__ Quelle est la probabilité (experimentale) d'obtenir un Blackjack (exactement 21 points) en main de départ à 2 joueurs? Comment auriez-vous fais pour retrouver théoriquement ce résultat ?"
   ]
  },
  {
   "cell_type": "code",
   "execution_count": null,
   "metadata": {},
   "outputs": [],
   "source": []
  }
 ],
 "metadata": {
  "anaconda-cloud": {},
  "kernelspec": {
   "display_name": "Python 3 (ipykernel)",
   "language": "python",
   "name": "python3"
  },
  "language_info": {
   "codemirror_mode": {
    "name": "ipython",
    "version": 3
   },
   "file_extension": ".py",
   "mimetype": "text/x-python",
   "name": "python",
   "nbconvert_exporter": "python",
   "pygments_lexer": "ipython3",
   "version": "3.12.3"
  }
 },
 "nbformat": 4,
 "nbformat_minor": 1
}
